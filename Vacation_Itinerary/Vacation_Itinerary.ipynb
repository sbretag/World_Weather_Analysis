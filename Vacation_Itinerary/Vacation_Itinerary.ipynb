{
 "cells": [
  {
   "cell_type": "markdown",
   "metadata": {},
   "source": [
    "## Deliverable 3. Create a Travel Itinerary Map."
   ]
  },
  {
   "cell_type": "code",
   "execution_count": 42,
   "metadata": {},
   "outputs": [],
   "source": [
    "# Dependencies and Setup\n",
    "import pandas as pd\n",
    "import requests\n",
    "import gmaps\n",
    "\n",
    "# Import API key\n",
    "from vacation_itinerary_config import g_key\n",
    "\n",
    "# Configure gmaps\n",
    "gmaps.configure(api_key=g_key)"
   ]
  },
  {
   "cell_type": "code",
   "execution_count": 43,
   "metadata": {},
   "outputs": [
    {
     "output_type": "execute_result",
     "data": {
      "text/plain": [
       "   City_ID          City Country  Max Temp Current Description      Lat  \\\n",
       "0        2       Samarai      PG     80.67       broken clouds -10.6167   \n",
       "1        6         Kapaa      US     80.92          light rain  22.0752   \n",
       "2        7     Hithadhoo      MV     81.82       broken clouds  -0.6000   \n",
       "3       19        Sahbuz      AZ     80.20           clear sky  39.4072   \n",
       "4       20  San Patricio      US     84.09           clear sky  28.0170   \n",
       "\n",
       "        Lng                           Hotel Name  \n",
       "0  150.6667                            Nuli Sapi  \n",
       "1 -159.3190  Sheraton Kauai Coconut Beach Resort  \n",
       "2   73.0833                    Scoop Guest House  \n",
       "3   45.5739                                  NaN  \n",
       "4  -97.5169                   Motel 6 Sinton, TX  "
      ],
      "text/html": "<div>\n<style scoped>\n    .dataframe tbody tr th:only-of-type {\n        vertical-align: middle;\n    }\n\n    .dataframe tbody tr th {\n        vertical-align: top;\n    }\n\n    .dataframe thead th {\n        text-align: right;\n    }\n</style>\n<table border=\"1\" class=\"dataframe\">\n  <thead>\n    <tr style=\"text-align: right;\">\n      <th></th>\n      <th>City_ID</th>\n      <th>City</th>\n      <th>Country</th>\n      <th>Max Temp</th>\n      <th>Current Description</th>\n      <th>Lat</th>\n      <th>Lng</th>\n      <th>Hotel Name</th>\n    </tr>\n  </thead>\n  <tbody>\n    <tr>\n      <th>0</th>\n      <td>2</td>\n      <td>Samarai</td>\n      <td>PG</td>\n      <td>80.67</td>\n      <td>broken clouds</td>\n      <td>-10.6167</td>\n      <td>150.6667</td>\n      <td>Nuli Sapi</td>\n    </tr>\n    <tr>\n      <th>1</th>\n      <td>6</td>\n      <td>Kapaa</td>\n      <td>US</td>\n      <td>80.92</td>\n      <td>light rain</td>\n      <td>22.0752</td>\n      <td>-159.3190</td>\n      <td>Sheraton Kauai Coconut Beach Resort</td>\n    </tr>\n    <tr>\n      <th>2</th>\n      <td>7</td>\n      <td>Hithadhoo</td>\n      <td>MV</td>\n      <td>81.82</td>\n      <td>broken clouds</td>\n      <td>-0.6000</td>\n      <td>73.0833</td>\n      <td>Scoop Guest House</td>\n    </tr>\n    <tr>\n      <th>3</th>\n      <td>19</td>\n      <td>Sahbuz</td>\n      <td>AZ</td>\n      <td>80.20</td>\n      <td>clear sky</td>\n      <td>39.4072</td>\n      <td>45.5739</td>\n      <td>NaN</td>\n    </tr>\n    <tr>\n      <th>4</th>\n      <td>20</td>\n      <td>San Patricio</td>\n      <td>US</td>\n      <td>84.09</td>\n      <td>clear sky</td>\n      <td>28.0170</td>\n      <td>-97.5169</td>\n      <td>Motel 6 Sinton, TX</td>\n    </tr>\n  </tbody>\n</table>\n</div>"
     },
     "metadata": {},
     "execution_count": 43
    }
   ],
   "source": [
    "# 1. Read the WeatherPy_vacation.csv into a DataFrame.\n",
    "  \n",
    "vacation_df = pd.read_csv(\"../Vacation_Search/WeatherPy_Vacation.csv\")\n",
    "vacation_df.head()\n"
   ]
  },
  {
   "cell_type": "code",
   "execution_count": 44,
   "metadata": {},
   "outputs": [],
   "source": [
    "# 2. Using the template add the city name, the country code, the weather description and maximum temperature for the city.\n",
    "\n",
    "info_box_template = \"\"\"\n",
    "<dl>\n",
    "<dt>City Name</dt><dd>{City}</dd>\n",
    "<dt>Country</dt><dd>{Country}</dd>\n",
    "<dt>Current Conditions</dt><dd>{Current Description} & {Max Temp} °F</dd>\n",
    "</dl>\n",
    "\"\"\"\n",
    "\n",
    "# 3a. Get the data from each row and add it to the formatting template and store the data in a list.\n",
    "city_info = [info_box_template.format(**row) for index, row in vacation_df.iterrows()]\n",
    "\n",
    "# 3b. Get the latitude and longitude from each row and store in a new DataFrame.\n",
    "city_locations = vacation_df[[\"Lat\", \"Lng\"]]"
   ]
  },
  {
   "cell_type": "code",
   "execution_count": 45,
   "metadata": {},
   "outputs": [
    {
     "output_type": "display_data",
     "data": {
      "text/plain": "Figure(layout=FigureLayout(height='420px'))",
      "application/vnd.jupyter.widget-view+json": {
       "version_major": 2,
       "version_minor": 0,
       "model_id": "28624b0931f6459a8c10f95126d27d26"
      }
     },
     "metadata": {}
    }
   ],
   "source": [
    "# 4a. Add a marker layer for each city to the map.\n",
    "\n",
    "\n",
    "marker_layer = gmaps.marker_layer(city_locations, info_box_content=city_info)\n",
    "fig = gmaps.figure()\n",
    "fig.add_layer(marker_layer)\n",
    "\n",
    "# 4b. Display the figure\n",
    "\n",
    "fig\n"
   ]
  },
  {
   "cell_type": "code",
   "execution_count": 46,
   "metadata": {},
   "outputs": [],
   "source": [
    "# From the map above pick 4 cities and create a vacation itinerary route to travel between the four cities. \n",
    "# 5. Create DataFrames for each city by filtering the 'vacation_df' using the loc method. \n",
    "# Hint: The starting and ending city should be the same city.\n",
    "\n",
    "vacation_start = vacation_df.loc[ (vacation_df[\"City\"] == \"Houston\") & (vacation_df[\"Country\"] == \"US\") ]\n",
    "vacation_end = vacation_df.loc[ (vacation_df[\"City\"] == \"Houston\") & (vacation_df[\"Country\"] == \"US\") ]\n",
    "vacation_stop1 = vacation_df.loc[ (vacation_df[\"City\"] == \"Laredo\") & (vacation_df[\"Country\"] == \"US\") ]\n",
    "vacation_stop2 = vacation_df.loc[ (vacation_df[\"City\"] == \"Pecos\") & (vacation_df[\"Country\"] == \"US\") ]\n",
    "vacation_stop3 = vacation_df.loc[ (vacation_df[\"City\"] == \"Lamar\") & (vacation_df[\"Country\"] == \"US\") ]\n",
    "\n"
   ]
  },
  {
   "cell_type": "code",
   "execution_count": 47,
   "metadata": {},
   "outputs": [
    {
     "output_type": "execute_result",
     "data": {
      "text/plain": [
       "    City_ID   City Country  Max Temp Current Description      Lat       Lng  \\\n",
       "42      271  Pecos      US     82.49           clear sky  31.4229 -103.4932   \n",
       "\n",
       "           Hotel Name  \n",
       "42  Knights Inn Pecos  "
      ],
      "text/html": "<div>\n<style scoped>\n    .dataframe tbody tr th:only-of-type {\n        vertical-align: middle;\n    }\n\n    .dataframe tbody tr th {\n        vertical-align: top;\n    }\n\n    .dataframe thead th {\n        text-align: right;\n    }\n</style>\n<table border=\"1\" class=\"dataframe\">\n  <thead>\n    <tr style=\"text-align: right;\">\n      <th></th>\n      <th>City_ID</th>\n      <th>City</th>\n      <th>Country</th>\n      <th>Max Temp</th>\n      <th>Current Description</th>\n      <th>Lat</th>\n      <th>Lng</th>\n      <th>Hotel Name</th>\n    </tr>\n  </thead>\n  <tbody>\n    <tr>\n      <th>42</th>\n      <td>271</td>\n      <td>Pecos</td>\n      <td>US</td>\n      <td>82.49</td>\n      <td>clear sky</td>\n      <td>31.4229</td>\n      <td>-103.4932</td>\n      <td>Knights Inn Pecos</td>\n    </tr>\n  </tbody>\n</table>\n</div>"
     },
     "metadata": {},
     "execution_count": 47
    }
   ],
   "source": [
    "vacation_stop2"
   ]
  },
  {
   "cell_type": "code",
   "execution_count": 48,
   "metadata": {},
   "outputs": [],
   "source": [
    "# 6. Get the latitude-longitude pairs as tuples from each city DataFrame using the to_numpy function and list indexing.\n",
    "start = vacation_start[\"Lat\"].to_numpy()[0], vacation_start[\"Lng\"].to_numpy()[0]\n",
    "end = vacation_end[\"Lat\"].to_numpy()[0], vacation_end[\"Lng\"].to_numpy()[0]\n",
    "stop1 = vacation_stop1[\"Lat\"].to_numpy()[0], vacation_stop1[\"Lng\"].to_numpy()[0]\n",
    "stop2 = vacation_stop2[\"Lat\"].to_numpy()[0], vacation_stop2[\"Lng\"].to_numpy()[0]\n",
    "stop3 = vacation_stop3[\"Lat\"].to_numpy()[0], vacation_stop3[\"Lng\"].to_numpy()[0]\n"
   ]
  },
  {
   "cell_type": "code",
   "execution_count": 49,
   "metadata": {
    "scrolled": true
   },
   "outputs": [
    {
     "output_type": "display_data",
     "data": {
      "text/plain": "Figure(layout=FigureLayout(height='420px'))",
      "application/vnd.jupyter.widget-view+json": {
       "version_major": 2,
       "version_minor": 0,
       "model_id": "e2a6371797494d4698ba32122107c3ba"
      }
     },
     "metadata": {}
    }
   ],
   "source": [
    "# 7. Create a direction layer map using the start and end latitude-longitude pairs,\n",
    "# and stop1, stop2, and stop3 as the waypoints. The travel_mode should be \"DRIVING\", \"BICYCLING\", or \"WALKING\".\n",
    "\n",
    "\n",
    "fig = gmaps.figure()\n",
    "vacation_itinerary = gmaps.directions_layer(\n",
    "        start, end, waypoints=[stop1, stop2 , stop3 ],\n",
    "        travel_mode='DRIVING')\n",
    "\n",
    "fig.add_layer(vacation_itinerary)\n",
    "fig\n"
   ]
  },
  {
   "cell_type": "code",
   "execution_count": 50,
   "metadata": {},
   "outputs": [
    {
     "output_type": "execute_result",
     "data": {
      "text/plain": [
       "   City_ID     City Country  Max Temp Current Description      Lat       Lng  \\\n",
       "0      493  Houston      US     84.06           clear sky  29.7633  -95.3633   \n",
       "1      538   Laredo      US     86.00          few clouds  27.5064  -99.5075   \n",
       "2      271    Pecos      US     82.49           clear sky  31.4229 -103.4932   \n",
       "3      498    Lamar      US     82.06    scattered clouds  33.6668  -95.5836   \n",
       "\n",
       "                         Hotel Name  \n",
       "0  Hotel ICON, Autograph Collection  \n",
       "1                   La Posada Hotel  \n",
       "2                 Knights Inn Pecos  \n",
       "3                Kings Inn Paris TX  "
      ],
      "text/html": "<div>\n<style scoped>\n    .dataframe tbody tr th:only-of-type {\n        vertical-align: middle;\n    }\n\n    .dataframe tbody tr th {\n        vertical-align: top;\n    }\n\n    .dataframe thead th {\n        text-align: right;\n    }\n</style>\n<table border=\"1\" class=\"dataframe\">\n  <thead>\n    <tr style=\"text-align: right;\">\n      <th></th>\n      <th>City_ID</th>\n      <th>City</th>\n      <th>Country</th>\n      <th>Max Temp</th>\n      <th>Current Description</th>\n      <th>Lat</th>\n      <th>Lng</th>\n      <th>Hotel Name</th>\n    </tr>\n  </thead>\n  <tbody>\n    <tr>\n      <th>0</th>\n      <td>493</td>\n      <td>Houston</td>\n      <td>US</td>\n      <td>84.06</td>\n      <td>clear sky</td>\n      <td>29.7633</td>\n      <td>-95.3633</td>\n      <td>Hotel ICON, Autograph Collection</td>\n    </tr>\n    <tr>\n      <th>1</th>\n      <td>538</td>\n      <td>Laredo</td>\n      <td>US</td>\n      <td>86.00</td>\n      <td>few clouds</td>\n      <td>27.5064</td>\n      <td>-99.5075</td>\n      <td>La Posada Hotel</td>\n    </tr>\n    <tr>\n      <th>2</th>\n      <td>271</td>\n      <td>Pecos</td>\n      <td>US</td>\n      <td>82.49</td>\n      <td>clear sky</td>\n      <td>31.4229</td>\n      <td>-103.4932</td>\n      <td>Knights Inn Pecos</td>\n    </tr>\n    <tr>\n      <th>3</th>\n      <td>498</td>\n      <td>Lamar</td>\n      <td>US</td>\n      <td>82.06</td>\n      <td>scattered clouds</td>\n      <td>33.6668</td>\n      <td>-95.5836</td>\n      <td>Kings Inn Paris TX</td>\n    </tr>\n  </tbody>\n</table>\n</div>"
     },
     "metadata": {},
     "execution_count": 50
    }
   ],
   "source": [
    "# 8. To create a marker layer map between the four cities.\n",
    "#  Combine the four city DataFrames into one DataFrame using the concat() function.\n",
    "itinerary_df = pd.concat([vacation_start, vacation_stop1 , vacation_stop2 , vacation_stop3 ],ignore_index=True)\n",
    "itinerary_df"
   ]
  },
  {
   "cell_type": "code",
   "execution_count": 51,
   "metadata": {},
   "outputs": [],
   "source": [
    "# 9 Using the template add city name, the country code, the weather description and maximum temperature for the city. \n",
    "\n",
    "info_box_template = \"\"\"\n",
    "<dl>\n",
    "<dt>Hotel Name</dt><dd>{Hotel Name}</dd>\n",
    "<dt>City Name</dt><dd>{City}</dd>\n",
    "<dt>Country</dt><dd>{Country}</dd>\n",
    "<dt>Current Conditions</dt><dd>{Current Description} & {Max Temp} °F</dd>\n",
    "</dl>\n",
    "\"\"\"\n",
    "\n",
    "\n",
    "# 10a Get the data from each row and add it to the formatting template and store the data in a list.\n",
    "stop_info = [info_box_template.format(**row) for index, row in itinerary_df.iterrows()]\n",
    "\n",
    "# 10b. Get the latitude and longitude from each row and store in a new DataFrame.\n",
    "locations = itinerary_df[[\"Lat\", \"Lng\"]]"
   ]
  },
  {
   "cell_type": "code",
   "execution_count": 52,
   "metadata": {},
   "outputs": [
    {
     "output_type": "display_data",
     "data": {
      "text/plain": "Figure(layout=FigureLayout(height='420px'))",
      "application/vnd.jupyter.widget-view+json": {
       "version_major": 2,
       "version_minor": 0,
       "model_id": "841e9988275f4ab6a79a040b0866226f"
      }
     },
     "metadata": {}
    }
   ],
   "source": [
    "# 11a. Add a marker layer for each city to the map.\n",
    "\n",
    "marker_layer = gmaps.marker_layer(locations, info_box_content=stop_info)\n",
    "fig = gmaps.figure(center=(30,  -95), zoom_level=5)\n",
    "fig.add_layer(marker_layer)\n",
    "\n",
    "# 11b. Display the figure\n",
    "\n",
    "fig\n"
   ]
  },
  {
   "cell_type": "code",
   "execution_count": null,
   "metadata": {},
   "outputs": [],
   "source": []
  }
 ],
 "metadata": {
  "kernelspec": {
   "name": "python3",
   "display_name": "Python 3.8.10 64-bit ('PyData': conda)"
  },
  "language_info": {
   "codemirror_mode": {
    "name": "ipython",
    "version": 3
   },
   "file_extension": ".py",
   "mimetype": "text/x-python",
   "name": "python",
   "nbconvert_exporter": "python",
   "pygments_lexer": "ipython3",
   "version": "3.8.10"
  },
  "latex_envs": {
   "LaTeX_envs_menu_present": true,
   "autoclose": false,
   "autocomplete": true,
   "bibliofile": "biblio.bib",
   "cite_by": "apalike",
   "current_citInitial": 1,
   "eqLabelWithNumbers": true,
   "eqNumInitial": 1,
   "hotkeys": {
    "equation": "Ctrl-E",
    "itemize": "Ctrl-I"
   },
   "labels_anchors": false,
   "latex_user_defs": false,
   "report_style_numbering": false,
   "user_envs_cfg": false
  },
  "interpreter": {
   "hash": "abe290642d551b78aa3d918a6b1e3a25aa3295161d70f949d9308b831a06f1c3"
  }
 },
 "nbformat": 4,
 "nbformat_minor": 2
}