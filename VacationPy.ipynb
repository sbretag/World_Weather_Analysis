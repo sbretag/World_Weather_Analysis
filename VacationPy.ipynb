{
 "cells": [
  {
   "cell_type": "code",
   "execution_count": 6,
   "id": "460e723b-e34b-4d57-9768-797c0a62462d",
   "metadata": {},
   "outputs": [],
   "source": [
    "# Import the dependencies.\n",
    "import pandas as pd\n",
    "import gmaps\n",
    "import requests\n",
    "# Import the API key.\n",
    "from config import g_key"
   ]
  },
  {
   "cell_type": "code",
   "execution_count": 7,
   "id": "fb722002-cf91-4c5a-98bb-282f880fe69c",
   "metadata": {},
   "outputs": [
    {
     "output_type": "execute_result",
     "data": {
      "text/plain": [
       "   City_ID        City Country                 Date      Lat       Lng  \\\n",
       "0        0  Sao Filipe      CV  2021-07-19 03:11:59  14.8961  -24.4956   \n",
       "1        1       Bluff      NZ  2021-07-19 03:15:28 -46.6000  168.3333   \n",
       "2        2      Albany      US  2021-07-19 03:14:09  42.6001  -73.9662   \n",
       "3        3   Saskylakh      RU  2021-07-19 03:15:47  71.9167  114.0833   \n",
       "4        4       Hecun      CN  2021-07-19 03:16:37  36.5333  114.1111   \n",
       "\n",
       "   Max Temp  Humidity  Cloudiness  Wind Speed  \n",
       "0     74.75        86          55        7.09  \n",
       "1     45.81        75          54        8.08  \n",
       "2     67.95        95         100        5.19  \n",
       "3     54.07        91         100       12.73  \n",
       "4     75.40        90         100        4.85  "
      ],
      "text/html": "<div>\n<style scoped>\n    .dataframe tbody tr th:only-of-type {\n        vertical-align: middle;\n    }\n\n    .dataframe tbody tr th {\n        vertical-align: top;\n    }\n\n    .dataframe thead th {\n        text-align: right;\n    }\n</style>\n<table border=\"1\" class=\"dataframe\">\n  <thead>\n    <tr style=\"text-align: right;\">\n      <th></th>\n      <th>City_ID</th>\n      <th>City</th>\n      <th>Country</th>\n      <th>Date</th>\n      <th>Lat</th>\n      <th>Lng</th>\n      <th>Max Temp</th>\n      <th>Humidity</th>\n      <th>Cloudiness</th>\n      <th>Wind Speed</th>\n    </tr>\n  </thead>\n  <tbody>\n    <tr>\n      <th>0</th>\n      <td>0</td>\n      <td>Sao Filipe</td>\n      <td>CV</td>\n      <td>2021-07-19 03:11:59</td>\n      <td>14.8961</td>\n      <td>-24.4956</td>\n      <td>74.75</td>\n      <td>86</td>\n      <td>55</td>\n      <td>7.09</td>\n    </tr>\n    <tr>\n      <th>1</th>\n      <td>1</td>\n      <td>Bluff</td>\n      <td>NZ</td>\n      <td>2021-07-19 03:15:28</td>\n      <td>-46.6000</td>\n      <td>168.3333</td>\n      <td>45.81</td>\n      <td>75</td>\n      <td>54</td>\n      <td>8.08</td>\n    </tr>\n    <tr>\n      <th>2</th>\n      <td>2</td>\n      <td>Albany</td>\n      <td>US</td>\n      <td>2021-07-19 03:14:09</td>\n      <td>42.6001</td>\n      <td>-73.9662</td>\n      <td>67.95</td>\n      <td>95</td>\n      <td>100</td>\n      <td>5.19</td>\n    </tr>\n    <tr>\n      <th>3</th>\n      <td>3</td>\n      <td>Saskylakh</td>\n      <td>RU</td>\n      <td>2021-07-19 03:15:47</td>\n      <td>71.9167</td>\n      <td>114.0833</td>\n      <td>54.07</td>\n      <td>91</td>\n      <td>100</td>\n      <td>12.73</td>\n    </tr>\n    <tr>\n      <th>4</th>\n      <td>4</td>\n      <td>Hecun</td>\n      <td>CN</td>\n      <td>2021-07-19 03:16:37</td>\n      <td>36.5333</td>\n      <td>114.1111</td>\n      <td>75.40</td>\n      <td>90</td>\n      <td>100</td>\n      <td>4.85</td>\n    </tr>\n  </tbody>\n</table>\n</div>"
     },
     "metadata": {},
     "execution_count": 7
    }
   ],
   "source": [
    "# Store the CSV you saved created in part one into a DataFrame.\n",
    "city_data_df = pd.read_csv(\"weather_data/cities.csv\")\n",
    "city_data_df.head()"
   ]
  },
  {
   "cell_type": "code",
   "execution_count": 8,
   "id": "73e4340b-8708-4b59-b7e8-b55e5e7126cc",
   "metadata": {},
   "outputs": [
    {
     "output_type": "execute_result",
     "data": {
      "text/plain": [
       "City_ID         int64\n",
       "City           object\n",
       "Country        object\n",
       "Date           object\n",
       "Lat           float64\n",
       "Lng           float64\n",
       "Max Temp      float64\n",
       "Humidity        int64\n",
       "Cloudiness      int64\n",
       "Wind Speed    float64\n",
       "dtype: object"
      ]
     },
     "metadata": {},
     "execution_count": 8
    }
   ],
   "source": [
    "city_data_df.dtypes\n"
   ]
  },
  {
   "cell_type": "code",
   "execution_count": 9,
   "id": "d8018506-df07-4d7d-aa54-241e9dedcf7e",
   "metadata": {},
   "outputs": [],
   "source": [
    "# Configure gmaps to use your Google API key.\n",
    "gmaps.configure(api_key=g_key)"
   ]
  },
  {
   "cell_type": "code",
   "execution_count": 10,
   "id": "b33475ff-e39a-4548-aae0-2f52fdf62a41",
   "metadata": {},
   "outputs": [
    {
     "output_type": "display_data",
     "data": {
      "text/plain": "Figure(layout=FigureLayout(height='420px'))",
      "application/vnd.jupyter.widget-view+json": {
       "version_major": 2,
       "version_minor": 0,
       "model_id": "2a59a279229e4dbe9bc24e71db3cc0c3"
      }
     },
     "metadata": {}
    }
   ],
   "source": [
    "# Heatmap of percent humidity\n",
    "locations = city_data_df[[\"Lat\", \"Lng\"]]\n",
    "humidity = city_data_df[\"Humidity\"]\n",
    "fig = gmaps.figure(center=(30.0, 31.0), zoom_level=1.5)\n",
    "heat_layer = gmaps.heatmap_layer(locations, weights=humidity, dissipating=False, max_intensity=300, point_radius=4)\n",
    "\n",
    "fig.add_layer(heat_layer)\n",
    "# Call the figure to plot the data.\n",
    "fig"
   ]
  },
  {
   "cell_type": "code",
   "execution_count": 11,
   "id": "72086c76-c94d-40fe-9ed7-57f40c2ca217",
   "metadata": {},
   "outputs": [
    {
     "output_type": "display_data",
     "data": {
      "text/plain": "Figure(layout=FigureLayout(height='420px'))",
      "application/vnd.jupyter.widget-view+json": {
       "version_major": 2,
       "version_minor": 0,
       "model_id": "fbb8f6658a444299bdbfd0f8fc1671c4"
      }
     },
     "metadata": {}
    }
   ],
   "source": [
    "# Heatmap of cloudiness\n",
    "locations = city_data_df[[\"Lat\", \"Lng\"]]\n",
    "clouds = city_data_df[\"Cloudiness\"]\n",
    "fig = gmaps.figure(center=(30.0, 31.0), zoom_level=1.5)\n",
    "heat_layer = gmaps.heatmap_layer(locations, weights=clouds, dissipating=False, max_intensity=300, point_radius=4)\n",
    "\n",
    "fig.add_layer(heat_layer)\n",
    "# Call the figure to plot the data.\n",
    "fig"
   ]
  },
  {
   "cell_type": "code",
   "execution_count": 12,
   "metadata": {},
   "outputs": [
    {
     "output_type": "display_data",
     "data": {
      "text/plain": "Figure(layout=FigureLayout(height='420px'))",
      "application/vnd.jupyter.widget-view+json": {
       "version_major": 2,
       "version_minor": 0,
       "model_id": "5e28aba5adaf44edbf2808f3abe9ca7d"
      }
     },
     "metadata": {}
    }
   ],
   "source": [
    "# Heatmap of Wind Speed\n",
    "locations = city_data_df[[\"Lat\", \"Lng\"]]\n",
    "wind = city_data_df[\"Wind Speed\"]\n",
    "fig = gmaps.figure(center=(30.0, 31.0), zoom_level=1.5)\n",
    "heat_layer = gmaps.heatmap_layer(locations, weights=wind, dissipating=False, max_intensity=300, point_radius=4)\n",
    "\n",
    "fig.add_layer(heat_layer)\n",
    "# Call the figure to plot the data.\n",
    "fig\n"
   ]
  },
  {
   "cell_type": "code",
   "execution_count": 13,
   "metadata": {},
   "outputs": [],
   "source": [
    "# Ask the customer to add a minimum and maximum temperature value.\n",
    "min_temp = float(input(\"What is the minimum temperature you would like for your trip? \"))\n",
    "max_temp = float(input(\"What is the maximum temperature you would like for your trip? \"))"
   ]
  },
  {
   "cell_type": "code",
   "execution_count": 14,
   "metadata": {},
   "outputs": [
    {
     "output_type": "execute_result",
     "data": {
      "text/plain": [
       "    City_ID          City Country                 Date      Lat       Lng  \\\n",
       "5         5     Marrakesh      MA  2021-07-19 03:12:02  31.6315   -8.0083   \n",
       "6         6  Norman Wells      CA  2021-07-19 03:15:46  65.2820 -126.8329   \n",
       "14       14      Filingue      NE  2021-07-19 03:22:01  14.3521    3.3168   \n",
       "18       18        Avarua      CK  2021-07-19 03:15:24 -21.2078 -159.7750   \n",
       "41       41       Ust-Kut      RU  2021-07-19 03:22:05  56.7938  105.7672   \n",
       "51       51           Eyl      SO  2021-07-19 03:21:05   7.9803   49.8164   \n",
       "56       56       Calella      ES  2021-07-19 03:22:08  41.6180    2.6678   \n",
       "62       62        Atuona      PF  2021-07-19 03:15:39  -9.8000 -139.0333   \n",
       "74       74   Bandarbeyla      SO  2021-07-19 03:17:18   9.4942   50.8122   \n",
       "95       95      Manicore      BR  2021-07-19 03:22:16  -5.8092  -61.3003   \n",
       "\n",
       "    Max Temp  Humidity  Cloudiness  Wind Speed  \n",
       "5      78.87        36           0        4.61  \n",
       "6      77.04        50          40       18.41  \n",
       "14     77.38        60         100        4.32  \n",
       "18     78.85        78          40       14.97  \n",
       "41     77.47        38          13        1.21  \n",
       "51     79.30        65          82       23.55  \n",
       "56     79.95        69           0        5.35  \n",
       "62     77.95        76           3       25.08  \n",
       "74     78.44        71          94       28.74  \n",
       "95     78.48        56          52        1.05  "
      ],
      "text/html": "<div>\n<style scoped>\n    .dataframe tbody tr th:only-of-type {\n        vertical-align: middle;\n    }\n\n    .dataframe tbody tr th {\n        vertical-align: top;\n    }\n\n    .dataframe thead th {\n        text-align: right;\n    }\n</style>\n<table border=\"1\" class=\"dataframe\">\n  <thead>\n    <tr style=\"text-align: right;\">\n      <th></th>\n      <th>City_ID</th>\n      <th>City</th>\n      <th>Country</th>\n      <th>Date</th>\n      <th>Lat</th>\n      <th>Lng</th>\n      <th>Max Temp</th>\n      <th>Humidity</th>\n      <th>Cloudiness</th>\n      <th>Wind Speed</th>\n    </tr>\n  </thead>\n  <tbody>\n    <tr>\n      <th>5</th>\n      <td>5</td>\n      <td>Marrakesh</td>\n      <td>MA</td>\n      <td>2021-07-19 03:12:02</td>\n      <td>31.6315</td>\n      <td>-8.0083</td>\n      <td>78.87</td>\n      <td>36</td>\n      <td>0</td>\n      <td>4.61</td>\n    </tr>\n    <tr>\n      <th>6</th>\n      <td>6</td>\n      <td>Norman Wells</td>\n      <td>CA</td>\n      <td>2021-07-19 03:15:46</td>\n      <td>65.2820</td>\n      <td>-126.8329</td>\n      <td>77.04</td>\n      <td>50</td>\n      <td>40</td>\n      <td>18.41</td>\n    </tr>\n    <tr>\n      <th>14</th>\n      <td>14</td>\n      <td>Filingue</td>\n      <td>NE</td>\n      <td>2021-07-19 03:22:01</td>\n      <td>14.3521</td>\n      <td>3.3168</td>\n      <td>77.38</td>\n      <td>60</td>\n      <td>100</td>\n      <td>4.32</td>\n    </tr>\n    <tr>\n      <th>18</th>\n      <td>18</td>\n      <td>Avarua</td>\n      <td>CK</td>\n      <td>2021-07-19 03:15:24</td>\n      <td>-21.2078</td>\n      <td>-159.7750</td>\n      <td>78.85</td>\n      <td>78</td>\n      <td>40</td>\n      <td>14.97</td>\n    </tr>\n    <tr>\n      <th>41</th>\n      <td>41</td>\n      <td>Ust-Kut</td>\n      <td>RU</td>\n      <td>2021-07-19 03:22:05</td>\n      <td>56.7938</td>\n      <td>105.7672</td>\n      <td>77.47</td>\n      <td>38</td>\n      <td>13</td>\n      <td>1.21</td>\n    </tr>\n    <tr>\n      <th>51</th>\n      <td>51</td>\n      <td>Eyl</td>\n      <td>SO</td>\n      <td>2021-07-19 03:21:05</td>\n      <td>7.9803</td>\n      <td>49.8164</td>\n      <td>79.30</td>\n      <td>65</td>\n      <td>82</td>\n      <td>23.55</td>\n    </tr>\n    <tr>\n      <th>56</th>\n      <td>56</td>\n      <td>Calella</td>\n      <td>ES</td>\n      <td>2021-07-19 03:22:08</td>\n      <td>41.6180</td>\n      <td>2.6678</td>\n      <td>79.95</td>\n      <td>69</td>\n      <td>0</td>\n      <td>5.35</td>\n    </tr>\n    <tr>\n      <th>62</th>\n      <td>62</td>\n      <td>Atuona</td>\n      <td>PF</td>\n      <td>2021-07-19 03:15:39</td>\n      <td>-9.8000</td>\n      <td>-139.0333</td>\n      <td>77.95</td>\n      <td>76</td>\n      <td>3</td>\n      <td>25.08</td>\n    </tr>\n    <tr>\n      <th>74</th>\n      <td>74</td>\n      <td>Bandarbeyla</td>\n      <td>SO</td>\n      <td>2021-07-19 03:17:18</td>\n      <td>9.4942</td>\n      <td>50.8122</td>\n      <td>78.44</td>\n      <td>71</td>\n      <td>94</td>\n      <td>28.74</td>\n    </tr>\n    <tr>\n      <th>95</th>\n      <td>95</td>\n      <td>Manicore</td>\n      <td>BR</td>\n      <td>2021-07-19 03:22:16</td>\n      <td>-5.8092</td>\n      <td>-61.3003</td>\n      <td>78.48</td>\n      <td>56</td>\n      <td>52</td>\n      <td>1.05</td>\n    </tr>\n  </tbody>\n</table>\n</div>"
     },
     "metadata": {},
     "execution_count": 14
    }
   ],
   "source": [
    "# Filter the dataset to find the cities that fit the criteria.\n",
    "preferred_cities_df = city_data_df.loc[(city_data_df[\"Max Temp\"] <= max_temp) & \\\n",
    "                                       (city_data_df[\"Max Temp\"] >= min_temp)]\n",
    "preferred_cities_df.head(10)"
   ]
  },
  {
   "cell_type": "code",
   "execution_count": 15,
   "metadata": {},
   "outputs": [
    {
     "output_type": "execute_result",
     "data": {
      "text/plain": [
       "City_ID       37\n",
       "City          37\n",
       "Country       37\n",
       "Date          37\n",
       "Lat           37\n",
       "Lng           37\n",
       "Max Temp      37\n",
       "Humidity      37\n",
       "Cloudiness    37\n",
       "Wind Speed    37\n",
       "dtype: int64"
      ]
     },
     "metadata": {},
     "execution_count": 15
    }
   ],
   "source": [
    "preferred_cities_df.count()"
   ]
  },
  {
   "cell_type": "code",
   "execution_count": 16,
   "metadata": {},
   "outputs": [
    {
     "output_type": "execute_result",
     "data": {
      "text/plain": [
       "            City Country  Max Temp      Lat       Lng Hotel Name\n",
       "5      Marrakesh      MA     78.87  31.6315   -8.0083           \n",
       "6   Norman Wells      CA     77.04  65.2820 -126.8329           \n",
       "14      Filingue      NE     77.38  14.3521    3.3168           \n",
       "18        Avarua      CK     78.85 -21.2078 -159.7750           \n",
       "41       Ust-Kut      RU     77.47  56.7938  105.7672           \n",
       "51           Eyl      SO     79.30   7.9803   49.8164           \n",
       "56       Calella      ES     79.95  41.6180    2.6678           \n",
       "62        Atuona      PF     77.95  -9.8000 -139.0333           \n",
       "74   Bandarbeyla      SO     78.44   9.4942   50.8122           \n",
       "95      Manicore      BR     78.48  -5.8092  -61.3003           "
      ],
      "text/html": "<div>\n<style scoped>\n    .dataframe tbody tr th:only-of-type {\n        vertical-align: middle;\n    }\n\n    .dataframe tbody tr th {\n        vertical-align: top;\n    }\n\n    .dataframe thead th {\n        text-align: right;\n    }\n</style>\n<table border=\"1\" class=\"dataframe\">\n  <thead>\n    <tr style=\"text-align: right;\">\n      <th></th>\n      <th>City</th>\n      <th>Country</th>\n      <th>Max Temp</th>\n      <th>Lat</th>\n      <th>Lng</th>\n      <th>Hotel Name</th>\n    </tr>\n  </thead>\n  <tbody>\n    <tr>\n      <th>5</th>\n      <td>Marrakesh</td>\n      <td>MA</td>\n      <td>78.87</td>\n      <td>31.6315</td>\n      <td>-8.0083</td>\n      <td></td>\n    </tr>\n    <tr>\n      <th>6</th>\n      <td>Norman Wells</td>\n      <td>CA</td>\n      <td>77.04</td>\n      <td>65.2820</td>\n      <td>-126.8329</td>\n      <td></td>\n    </tr>\n    <tr>\n      <th>14</th>\n      <td>Filingue</td>\n      <td>NE</td>\n      <td>77.38</td>\n      <td>14.3521</td>\n      <td>3.3168</td>\n      <td></td>\n    </tr>\n    <tr>\n      <th>18</th>\n      <td>Avarua</td>\n      <td>CK</td>\n      <td>78.85</td>\n      <td>-21.2078</td>\n      <td>-159.7750</td>\n      <td></td>\n    </tr>\n    <tr>\n      <th>41</th>\n      <td>Ust-Kut</td>\n      <td>RU</td>\n      <td>77.47</td>\n      <td>56.7938</td>\n      <td>105.7672</td>\n      <td></td>\n    </tr>\n    <tr>\n      <th>51</th>\n      <td>Eyl</td>\n      <td>SO</td>\n      <td>79.30</td>\n      <td>7.9803</td>\n      <td>49.8164</td>\n      <td></td>\n    </tr>\n    <tr>\n      <th>56</th>\n      <td>Calella</td>\n      <td>ES</td>\n      <td>79.95</td>\n      <td>41.6180</td>\n      <td>2.6678</td>\n      <td></td>\n    </tr>\n    <tr>\n      <th>62</th>\n      <td>Atuona</td>\n      <td>PF</td>\n      <td>77.95</td>\n      <td>-9.8000</td>\n      <td>-139.0333</td>\n      <td></td>\n    </tr>\n    <tr>\n      <th>74</th>\n      <td>Bandarbeyla</td>\n      <td>SO</td>\n      <td>78.44</td>\n      <td>9.4942</td>\n      <td>50.8122</td>\n      <td></td>\n    </tr>\n    <tr>\n      <th>95</th>\n      <td>Manicore</td>\n      <td>BR</td>\n      <td>78.48</td>\n      <td>-5.8092</td>\n      <td>-61.3003</td>\n      <td></td>\n    </tr>\n  </tbody>\n</table>\n</div>"
     },
     "metadata": {},
     "execution_count": 16
    }
   ],
   "source": [
    "# Create DataFrame called hotel_df to store hotel names along with city, country, max temp, and coordinates.\n",
    "hotel_df = preferred_cities_df[[\"City\", \"Country\", \"Max Temp\", \"Lat\", \"Lng\"]].copy()\n",
    "hotel_df[\"Hotel Name\"] = \"\"\n",
    "hotel_df.head(10)"
   ]
  },
  {
   "cell_type": "code",
   "execution_count": 17,
   "metadata": {},
   "outputs": [],
   "source": [
    "# Set parameters to search for a hotel.\n",
    "params = {\n",
    "    \"radius\": 5000,\n",
    "    \"type\": \"lodging\",\n",
    "    \"key\": g_key\n",
    "}"
   ]
  },
  {
   "cell_type": "code",
   "execution_count": 18,
   "metadata": {},
   "outputs": [],
   "source": [
    "# Dependencies and Setup\n",
    "import requests\n",
    "import gmaps\n",
    "\n",
    "# Import API key\n",
    "from config import g_key"
   ]
  },
  {
   "cell_type": "code",
   "execution_count": 19,
   "metadata": {},
   "outputs": [
    {
     "output_type": "execute_result",
     "data": {
      "text/plain": [
       "n_now': True},\n",
       "   'photos': [{'height': 2000,\n",
       "     'html_attributions': ['<a href=\"https://maps.google.com/maps/contrib/111815616573299411056\">Novotel Paris Les Halles</a>'],\n",
       "     'photo_reference': 'Aap_uED9eikkOn7ZimVVUaulqax0XuwG8QHKxnWijqMKBFW5PexotX6KfhtrxdDa0_Xp5NOq_ZkQqw2E1oexnNUnaUv_dg14t_qaR1-rbQ9FpAu3CwkqET9q4clIwY7HSqumR81KtuR5t1uSHYV87EWbLf7l-VcNwah8GgSzqS6Pw3XqZg_D',\n",
       "     'width': 3000}],\n",
       "   'place_id': 'ChIJGW2pNx9u5kcRI3oyL8NG5BQ',\n",
       "   'plus_code': {'compound_code': 'V86W+8J Paris, France',\n",
       "    'global_code': '8FW4V86W+8J'},\n",
       "   'rating': 4.4,\n",
       "   'reference': 'ChIJGW2pNx9u5kcRI3oyL8NG5BQ',\n",
       "   'scope': 'GOOGLE',\n",
       "   'types': ['lodging', 'point_of_interest', 'establishment'],\n",
       "   'user_ratings_total': 2161,\n",
       "   'vicinity': '8 Place Marguerite de Navarre, Paris'},\n",
       "  {'business_status': 'OPERATIONAL',\n",
       "   'geometry': {'location': {'lat': 48.86034799999999, 'lng': 2.344054},\n",
       "    'viewport': {'northeast': {'lat': 48.8616503302915,\n",
       "      'lng': 2.345521080291502},\n",
       "     'southwest': {'lat': 48.8589523697085, 'lng': 2.342823119708498}}},\n",
       "   'icon': 'https://maps.gstatic.com/mapfiles/place_api/icons/v1/png_71/lodging-71.png',\n",
       "   'name': 'Hôtel Ducs de Bourgogne',\n",
       "   'opening_hours': {'open_now': True},\n",
       "   'photos': [{'height': 1390,\n",
       "     'html_attributions': ['<a href=\"https://maps.google.com/maps/contrib/101411638353598558320\">Hôtel Ducs de Bourgogne</a>'],\n",
       "     'photo_reference': 'Aap_uEAhbs4mYVBk_zUn5514WedSVXiOtEx0TQ2GCsOjTYxksHXVbxi5_QeXdoqxB2amDY11fCsw6UO9_uneAuEDc2J3sApqOdAi0EjbhD_n8M7fy4rS2uf2FKyHvL71SZ4FFskQqLvIuq8jL7FkapynW5aRne65u7cjeW5CbW3bhlPb3o5L',\n",
       "     'width': 2048}],\n",
       "   'place_id': 'ChIJifTG5yFu5kcRdnisbwxnAx4',\n",
       "   'plus_code': {'compound_code': 'V86V+4J Paris, France',\n",
       "    'global_code': '8FW4V86V+4J'},\n",
       "   'rating': 4.5,\n",
       "   'reference': 'ChIJifTG5yFu5kcRdnisbwxnAx4',\n",
       "   'scope': 'GOOGLE',\n",
       "   'types': ['lodging', 'point_of_interest', 'establishment'],\n",
       "   'user_ratings_total': 277,\n",
       "   'vicinity': '19 Rue du Pont Neuf, Paris'},\n",
       "  {'business_status': 'OPERATIONAL',\n",
       "   'geometry': {'location': {'lat': 48.8555091, 'lng': 2.3408736},\n",
       "    'viewport': {'northeast': {'lat': 48.8569076302915,\n",
       "      'lng': 2.342319280291502},\n",
       "     'southwest': {'lat': 48.8542096697085, 'lng': 2.339621319708498}}},\n",
       "   'icon': 'https://maps.gstatic.com/mapfiles/place_api/icons/v1/png_71/lodging-71.png',\n",
       "   'name': 'Citadines Saint-Germain-des-Prés Paris (Apart hotel Paris)',\n",
       "   'opening_hours': {'open_now': True},\n",
       "   'photos': [{'height': 4480,\n",
       "     'html_attributions': ['<a href=\"https://maps.google.com/maps/contrib/113188832595116816387\">Citadines Saint-Germain-des-Prés Paris</a>'],\n",
       "     'photo_reference': 'Aap_uECtDGyKw3ae0pWfQ_dcJb6RDtjb9HljX9EGCyD_POImjP9-bEgKJozPkJFO2ibgrtu3MAsXugXfNBmC-ZBSzlI5_I99iBtJjDkGNwOQG8yTNLBrbAJagWxMdEg3mK6O1wjE3cTMPPuxo5wNmygTcUk9Rk_h7M_k_6OkTL_jfpc9E9Xn',\n",
       "     'width': 6720}],\n",
       "   'place_id': 'ChIJo5pYcN9x5kcRERXdocMgqmE',\n",
       "   'plus_code': {'compound_code': 'V84R+68 Paris, France',\n",
       "    'global_code': '8FW4V84R+68'},\n",
       "   'rating': 4.3,\n",
       "   'reference': 'ChIJo5pYcN9x5kcRERXdocMgqmE',\n",
       "   'scope': 'GOOGLE',\n",
       "   'types': ['lodging', 'point_of_interest', 'establishment'],\n",
       "   'user_ratings_total': 672,\n",
       "   'vicinity': '53 ter Quai des Grands Augustins, Paris'},\n",
       "  {'business_status': 'OPERATIONAL',\n",
       "   'geometry': {'location': {'lat': 48.86634659999999, 'lng': 2.36064},\n",
       "    'viewport': {'northeast': {'lat': 48.86774953029149,\n",
       "      'lng': 2.361898330291501},\n",
       "     'southwest': {'lat': 48.86505156970849, 'lng': 2.359200369708498}}},\n",
       "   'icon': 'https://maps.gstatic.com/mapfiles/place_api/icons/v1/png_71/lodging-71.png',\n",
       "   'name': 'Paris France Hôtel',\n",
       "   'opening_hours': {'open_now': True},\n",
       "   'photos': [{'height': 2673,\n",
       "     'html_attributions': ['<a href=\"https://maps.google.com/maps/contrib/102332962500946068613\">Paris France Hôtel</a>'],\n",
       "     'photo_reference': 'Aap_uEC03X_cUcES02ISF96Ky2FEuGHi0ETHCxUg20HQt2_ROIM8DHtxwChdfOGRQKQZe0FBSWm2ZrHF-ZI-CiLRpQSDalv6LKti-EXQIgz-TYy6ezxR2RJoKfk7l-jXyJJDjTmp8sqE2JKmqihU5m1NTSSKA7OADmyXAyjVqh2LDBEeLi7U',\n",
       "     'width': 3463}],\n",
       "   'place_id': 'ChIJhXWLZg9u5kcRDVyqoZYgcmg',\n",
       "   'plus_code': {'compound_code': 'V986+G7 Paris, France',\n",
       "    'global_code': '8FW4V986+G7'},\n",
       "   'rating': 4.3,\n",
       "   'reference': 'ChIJhXWLZg9u5kcRDVyqoZYgcmg',\n",
       "   'scope': 'GOOGLE',\n",
       "   'types': ['lodging', 'point_of_interest', 'establishment'],\n",
       "   'user_ratings_total': 379,\n",
       "   'vicinity': '72 Rue de Turbigo, Paris'},\n",
       "  {'business_status': 'OPERATIONAL',\n",
       "   'geometry': {'location': {'lat': 48.86386539999999, 'lng': 2.3325488},\n",
       "    'viewport': {'northeast': {'lat': 48.8650759802915,\n",
       "      'lng': 2.333775730291502},\n",
       "     'southwest': {'lat': 48.8623780197085, 'lng': 2.331077769708498}}},\n",
       "   'icon': 'https://maps.gstatic.com/mapfiles/place_api/icons/v1/png_71/lodging-71.png',\n",
       "   'name': 'Hotel Regina Louvre',\n",
       "   'opening_hours': {'open_now': True},\n",
       "   'photos': [{'height': 3700,\n",
       "     'html_attributions': ['<a href=\"https://maps.google.com/maps/contrib/109908333790946649027\">Hôtel Regina Louvre</a>'],\n",
       "     'photo_reference': 'Aap_uEA1aZwSw2BRGJ6VtoomMLIwtKDg9ZknU0YhSh5fzZqqD4_Qbv6OydVMUdsRYYUQs-fud5R_HZUxXH7zIF8XUEXxXhCXKAoml-YVyBZ86fnehc6BCaAsJ03k-wybxE7MacA0Cfl1TQ0_9wirpTytLfSYcLQoYUaObzr9kP2C5L16rKDS',\n",
       "     'width': 5550}],\n",
       "   'place_id': 'ChIJP_-HCS9u5kcRsj9b1x7Pl8w',\n",
       "   'plus_code': {'compound_code': 'V87M+G2 Paris, France',\n",
       "    'global_code': '8FW4V87M+G2'},\n",
       "   'rating': 4.5,\n",
       "   'reference': 'ChIJP_-HCS9u5kcRsj9b1x7Pl8w',\n",
       "   'scope': 'GOOGLE',\n",
       "   'types': ['lodging',\n",
       "    'bar',\n",
       "    'restaurant',\n",
       "    'food',\n",
       "    'point_of_interest',\n",
       "    'establishment'],\n",
       "   'user_ratings_total': 500,\n",
       "   'vicinity': '2 Place des Pyramides, Paris'},\n",
       "  {'business_status': 'OPERATIONAL',\n",
       "   'geometry': {'location': {'lat': 48.84795229999999, 'lng': 2.370869},\n",
       "    'viewport': {'northeast': {'lat': 48.8492035302915,\n",
       "      'lng': 2.372290080291501},\n",
       "     'southwest': {'lat': 48.8465055697085, 'lng': 2.369592119708498}}},\n",
       "   'icon': 'https://maps.gstatic.com/mapfiles/place_api/icons/v1/png_71/lodging-71.png',\n",
       "   'name': 'ibis Paris Gare de Lyon Ledru Rollin 12ème',\n",
       "   'opening_hours': {'open_now': True},\n",
       "   'photos': [{'height': 3000,\n",
       "     'html_attributions': ['<a href=\"https://maps.google.com/maps/contrib/110161480967920528437\">stefan kebbekus</a>'],\n",
       "     'photo_reference': 'Aap_uEA1Pr0-4J08nJQiiMp_208N_UWhRr13Sg2xqBQWulNNDxqlvkcwv8u6loQ7ru5YqtD5QDQcrEmwIgSZzJmfdg9OjlnUeUJ7sJsTg6ZIqRw_dc6Vqws9IC9ToApUjrzYfgWqDUUvNpzGChMtBVeRvopfZxPw02r4-98G7MfRwi7g7IM5',\n",
       "     'width': 4000}],\n",
       "   'place_id': 'ChIJ9RNxcQNy5kcRnZJ4vsuXcow',\n",
       "   'plus_code': {'compound_code': 'R9XC+58 Paris, France',\n",
       "    'global_code': '8FW4R9XC+58'},\n",
       "   'rating': 4,\n",
       "   'reference': 'ChIJ9RNxcQNy5kcRnZJ4vsuXcow',\n",
       "   'scope': 'GOOGLE',\n",
       "   'types': ['lodging', 'point_of_interest', 'establishment'],\n",
       "   'user_ratings_total': 779,\n",
       "   'vicinity': '41/43 Avenue Ledru Rollin, Paris'},\n",
       "  {'business_status': 'CLOSED_TEMPORARILY',\n",
       "   'geometry': {'location': {'lat': 48.8710647, 'lng': 2.34991},\n",
       "    'viewport': {'northeast': {'lat': 48.87241888029151,\n",
       "      'lng': 2.351188530291502},\n",
       "     'southwest': {'lat': 48.86972091970851, 'lng': 2.348490569708498}}},\n",
       "   'icon': 'https://maps.gstatic.com/mapfiles/place_api/icons/v1/png_71/lodging-71.png',\n",
       "   'name': 'Hôtel des Comédies Paris',\n",
       "   'permanently_closed': True,\n",
       "   'photos': [{'height': 4000,\n",
       "     'html_attributions': ['<a href=\"https://maps.google.com/maps/contrib/114696623290303183213\">Noble</a>'],\n",
       "     'photo_reference': 'Aap_uEAY9a1MQtAgDGm8vycIm9zkTDC_GGGVBMbKC4h-jCSJmUwK-vDq7IKG3rK4yU3FWEm349etm49B99Zy7G17EpLOXFvlsBuBr8TKgaqwkg_S0eNTKxgCkl0Z_Yb3062S2u0QNL-b1-zNLQkKs7PQPosJHiKoIau9dgxEiZ9oFl0OA9uG',\n",
       "     'width': 3000}],\n",
       "   'place_id': 'ChIJn6ginxZu5kcRmAEK0OHm0cI',\n",
       "   'plus_code': {'compound_code': 'V8CX+CX Paris, France',\n",
       "    'global_code': '8FW4V8CX+CX'},\n",
       "   'rating': 4.2,\n",
       "   'reference': 'ChIJn6ginxZu5kcRmAEK0OHm0cI',\n",
       "   'scope': 'GOOGLE',\n",
       "   'types': ['lodging', 'point_of_interest', 'establishment'],\n",
       "   'user_ratings_total': 194,\n",
       "   'vicinity': \"8 Rue d'Hauteville, Paris\"},\n",
       "  {'business_status': 'OPERATIONAL',\n",
       "   'geometry': {'location': {'lat': 48.84754640000001, 'lng': 2.3718722},\n",
       "    'viewport': {'northeast': {'lat': 48.8488750302915,\n",
       "      'lng': 2.373125480291502},\n",
       "     'southwest': {'lat': 48.8461770697085, 'lng': 2.370427519708498}}},\n",
       "   'icon': 'https://maps.gstatic.com/mapfiles/place_api/icons/v1/png_71/lodging-71.png',\n",
       "   'name': 'Hôtel De France Gare de Lyon Bastille',\n",
       "   'photos': [{'height': 787,\n",
       "     'html_attributions': ['<a href=\"https://maps.google.com/maps/contrib/117462031751048846575\">Hôtel De France Gare de Lyon Bastille</a>'],\n",
       "     'photo_reference': 'Aap_uEAdhKPrmTcquTVrQb3v-mWCDmCAs0CAFenjZARqIotfJakncijkfd7XAS9xMkbiBwgtpdoptM39l0hq11g38klFQi-bquXylX-Wg5Kh1SuF-JGFgLpUUuZAv3nMlCt7WCIxb3k70vG6HiNx_AC5Mo-TfzM8EwJBjq8Fgapv3OnE3Nt1',\n",
       "     'width': 1181}],\n",
       "   'place_id': 'ChIJz6DBYgNy5kcRhOu1LhDIECM',\n",
       "   'plus_code': {'compound_code': 'R9XC+2P Paris, France',\n",
       "    'global_code': '8FW4R9XC+2P'},\n",
       "   'rating': 3.3,\n",
       "   'reference': 'ChIJz6DBYgNy5kcRhOu1LhDIECM',\n",
       "   'scope': 'GOOGLE',\n",
       "   'types': ['lodging', 'point_of_interest', 'establishment'],\n",
       "   'user_ratings_total': 380,\n",
       "   'vicinity': '12 Rue de Lyon, Paris'},\n",
       "  {'business_status': 'OPERATIONAL',\n",
       "   'geometry': {'location': {'lat': 48.8717386, 'lng': 2.3447052},\n",
       "    'viewport': {'northeast': {'lat': 48.8731394302915,\n",
       "      'lng': 2.346067130291502},\n",
       "     'southwest': {'lat': 48.8704414697085, 'lng': 2.343369169708498}}},\n",
       "   'icon': 'https://maps.gstatic.com/mapfiles/place_api/icons/v1/png_71/lodging-71.png',\n",
       "   'name': 'Hôtel Prélude Opéra Paris',\n",
       "   'opening_hours': {'open_now': True},\n",
       "   'photos': [{'height': 2448,\n",
       "     'html_attributions': ['<a href=\"https://maps.google.com/maps/contrib/106224131803115407650\">Marcin Marczak</a>'],\n",
       "     'photo_reference': 'Aap_uEADZXezmosWmsky3XVFaJW7oksOVf1R3YXvZWsdsYPThmfryFklxeFMIoIanuEPiqnPun45ex8141hqRRMnWOYC6jwTGDxjF1pqtXR7l1_IxUiEnWJ8JQSUgYo9WVyd4Pdmv-UTB9WJOrHNMMunGttC0vyZkONGJBWUCUJn6iDDg2li',\n",
       "     'width': 3264}],\n",
       "   'place_id': 'ChIJ8e3Qcj5u5kcR2MIGwNxustk',\n",
       "   'plus_code': {'compound_code': 'V8CV+MV Paris, France',\n",
       "    'global_code': '8FW4V8CV+MV'},\n",
       "   'rating': 4.1,\n",
       "   'reference': 'ChIJ8e3Qcj5u5kcR2MIGwNxustk',\n",
       "   'scope': 'GOOGLE',\n",
       "   'types': ['lodging', 'point_of_interest', 'establishment'],\n",
       "   'user_ratings_total': 352,\n",
       "   'vicinity': '8 Cité Bergère, Paris'},\n",
       "  {'business_status': 'OPERATIONAL',\n",
       "   'geometry': {'location': {'lat': 48.8423491, 'lng': 2.3632246},\n",
       "    'viewport': {'northeast': {'lat': 48.84365908029149,\n",
       "      'lng': 2.364711430291502},\n",
       "     'southwest': {'lat': 48.8409611197085, 'lng': 2.362013469708498}}},\n",
       "   'icon': 'https://maps.gstatic.com/mapfiles/place_api/icons/v1/png_71/lodging-71.png',\n",
       "   'name': 'Hôtel Libertel Austerlitz Jardin des Plantes',\n",
       "   'opening_hours': {'open_now': True},\n",
       "   'photos': [{'height': 4480,\n",
       "     'html_attributions': ['<a href=\"https://maps.google.com/maps/contrib/114802271282641766772\">Hôtel Libertel Austerlitz Jardin des Plantes</a>'],\n",
       "     'photo_reference': 'Aap_uEACfa8ShuC0RgXQjNvLshVIdE0nl8cK2D3_szAHUfbNX19WoX5fRHKeZSQ-b3bVedkoRSi4Vh7nxPe1i4Nvf3U56gZ9fBk0UFzae4B7vzzf71DU1En-elUeLZgm4luR4BI2sJ0ZLTtlAPyS-rJyjISmS9wSyUq4d73jSp9me9Irh6-K',\n",
       "     'width': 6720}],\n",
       "   'place_id': 'ChIJe-udXPZx5kcRKURHNFv5BSw',\n",
       "   'plus_code': {'compound_code': 'R9R7+W7 Paris, France',\n",
       "    'global_code': '8FW4R9R7+W7'},\n",
       "   'rating': 4,\n",
       "   'reference': 'ChIJe-udXPZx5kcRKURHNFv5BSw',\n",
       "   'scope': 'GOOGLE',\n",
       "   'types': ['lodging', 'point_of_interest', 'establishment'],\n",
       "   'user_ratings_total': 433,\n",
       "   'vicinity': \"12 Boulevard de l'Hôpital, Paris\"},\n",
       "  {'business_status': 'OPERATIONAL',\n",
       "   'geometry': {'location': {'lat': 48.864294, 'lng': 2.3307997},\n",
       "    'viewport': {'northeast': {'lat': 48.8655772302915,\n",
       "      'lng': 2.332153880291502},\n",
       "     'southwest': {'lat': 48.8628792697085, 'lng': 2.329455919708498}}},\n",
       "   'icon': 'https://maps.gstatic.com/mapfiles/place_api/icons/v1/png_71/lodging-71.png',\n",
       "   'name': 'Saint James Albany Paris Hôtel Spa',\n",
       "   'opening_hours': {'open_now': True},\n",
       "   'photos': [{'height': 400,\n",
       "     'html_attributions': ['<a href=\"https://maps.google.com/maps/contrib/108570400659068256718\">Saint James Albany Paris Hôtel Spa</a>'],\n",
       "     'photo_reference': 'Aap_uECYkCUVowUJkO_Vd0iPR2M4Nr5tR_4VAbMd9BdNz_IgSa7Kmrfi8csUT2CqrZA-pz989EuriYrDlwkYdVF3_rCS35pfbMLzOZ76a67-e2kNz7z7LmChKSk-kEVoG87BixZIeauH8zSJ8eP-RSrR22hhgfcJO-4lIcM2rndA6R1GyiCL',\n",
       "     'width': 600}],\n",
       "   'place_id': 'ChIJ8znTVS5u5kcREq8TmzOICFs',\n",
       "   'plus_code': {'compound_code': 'V87J+P8 Paris, France',\n",
       "    'global_code': '8FW4V87J+P8'},\n",
       "   'rating': 4,\n",
       "   'reference': 'ChIJ8znTVS5u5kcREq8TmzOICFs',\n",
       "   'scope': 'GOOGLE',\n",
       "   'types': ['lodging',\n",
       "    'bar',\n",
       "    'restaurant',\n",
       "    'food',\n",
       "    'point_of_interest',\n",
       "    'establishment'],\n",
       "   'user_ratings_total': 1073,\n",
       "   'vicinity': '202 Rue de Rivoli, Paris'},\n",
       "  {'business_status': 'OPERATIONAL',\n",
       "   'geometry': {'location': {'lat': 48.87110329999999, 'lng': 2.3389728},\n",
       "    'viewport': {'northeast': {'lat': 48.8724588802915,\n",
       "      'lng': 2.340112930291502},\n",
       "     'southwest': {'lat': 48.8697609197085, 'lng': 2.337414969708499}}},\n",
       "   'icon': 'https://maps.gstatic.com/mapfiles/place_api/icons/v1/png_71/lodging-71.png',\n",
       "   'name': 'Hôtel Icône',\n",
       "   'opening_hours': {'open_now': True},\n",
       "   'photos': [{'height': 1066,\n",
       "     'html_attributions': ['<a href=\"https://maps.google.com/maps/contrib/108137830440312077288\">Hôtel Icône</a>'],\n",
       "     'photo_reference': 'Aap_uEABAw3pwFeYUrm-_iYpgPA_0bYIBDfjw9_AW5nVNbbNrBEvs2e2NXM7cb__02dHZGfxRcxl_ws_rGxIhyFSXVWRHVlhUirluQLUO1hw843r6A4ghWCf23H0K-o5C4uXpAWhRsT5gc1M4-cu_EKaDZsLC2r1vEO38BlQmSxmay1ofYFJ',\n",
       "     'width': 1600}],\n",
       "   'place_id': 'ChIJpQvq5Dtu5kcR0COam2f7v_I',\n",
       "   'plus_code': {'compound_code': 'V8CQ+CH Paris, France',\n",
       "    'global_code': '8FW4V8CQ+CH'},\n",
       "   'rating': 3.8,\n",
       "   'reference': 'ChIJpQvq5Dtu5kcR0COam2f7v_I',\n",
       "   'scope': 'GOOGLE',\n",
       "   'types': ['lodging', 'point_of_interest', 'establishment'],\n",
       "   'user_ratings_total': 138,\n",
       "   'vicinity': \"4 Rue d'Amboise, Paris\"},\n",
       "  {'business_status': 'OPERATIONAL',\n",
       "   'geometry': {'location': {'lat': 48.8524547, 'lng': 2.3472064},\n",
       "    'viewport': {'northeast': {'lat': 48.8538838802915,\n",
       "      'lng': 2.348601530291502},\n",
       "     'southwest': {'lat': 48.8511859197085, 'lng': 2.345903569708498}}},\n",
       "   'icon': 'https://maps.gstatic.com/mapfiles/place_api/icons/v1/png_71/lodging-71.png',\n",
       "   'name': 'Hôtel Esmeralda',\n",
       "   'opening_hours': {'open_now': True},\n",
       "   'photos': [{'height': 1960,\n",
       "     'html_attributions': ['<a href=\"https://maps.google.com/maps/contrib/106443224837840180239\">Fraz A. Khan</a>'],\n",
       "     'photo_reference': 'Aap_uEAuv90dGHAFC2zX303mE4QPRtKCWxauc3ylSgGqUX7_H0mEOvSd1BPqS780sIPvHp0ZT1Fbn2aNaXvc3H05X0H0FZwnG74x-ndKSL195uK--njQdOTi65pme3mzXM2thn13BfHv4C45xvboSeXhCjxj3qrZx-D3fBVAHGJCX_Q5GSZY',\n",
       "     'width': 4032}],\n",
       "   'place_id': 'ChIJO_g_H-Fx5kcRmaabUHA3dT4',\n",
       "   'plus_code': {'compound_code': 'V82W+XV Paris, France',\n",
       "    'global_code': '8FW4V82W+XV'},\n",
       "   'rating': 4.1,\n",
       "   'reference': 'ChIJO_g_H-Fx5kcRmaabUHA3dT4',\n",
       "   'scope': 'GOOGLE',\n",
       "   'types': ['lodging', 'point_of_interest', 'establishment'],\n",
       "   'user_ratings_total': 143,\n",
       "   'vicinity': '4 Rue Saint-Julien le Pauvre, Paris'},\n",
       "  {'business_status': 'OPERATIONAL',\n",
       "   'geometry': {'location': {'lat': 48.8530901, 'lng': 2.3447174},\n",
       "    'viewport': {'northeast': {'lat': 48.8544403302915,\n",
       "      'lng': 2.346001280291502},\n",
       "     'southwest': {'lat': 48.8517423697085, 'lng': 2.343303319708498}}},\n",
       "   'icon': 'https://maps.gstatic.com/mapfiles/place_api/icons/v1/png_71/lodging-71.png',\n",
       "   'name': 'Albe Hotel',\n",
       "   'opening_hours': {'open_now': True},\n",
       "   'photos': [{'height': 1152,\n",
       "     'html_attributions': ['<a href=\"https://maps.google.com/maps/contrib/117571951379278191466\">Albe Hotel Saint Michel</a>'],\n",
       "     'photo_reference': 'Aap_uEBKoFICp6hA9FGKa2zX2s8Ee9xx3UWNFZi3UwzpnTEMF20sXWEMKB4UL1y5C-YWyHZEfoPeopGGgyWXByRdD2ybMYBfFjECu9dshOCzRcM5IzC-VXfrubF6c2BFUyMKmDRyg4URlt8jYsAZJedH8uMzotxO0ShdV-qu3XKFYAxCoTPO',\n",
       "     'width': 1600}],\n",
       "   'place_id': 'ChIJ8R5-hOBx5kcRsCOdfj8GLeY',\n",
       "   'plus_code': {'compound_code': 'V83V+6V Paris, France',\n",
       "    'global_code': '8FW4V83V+6V'},\n",
       "   'rating': 4.4,\n",
       "   'reference': 'ChIJ8R5-hOBx5kcRsCOdfj8GLeY',\n",
       "   'scope': 'GOOGLE',\n",
       "   'types': ['lodging', 'point_of_interest', 'establishment'],\n",
       "   'user_ratings_total': 323,\n",
       "   'vicinity': '1 Rue de la Harpe, Paris'},\n",
       "  {'business_status': 'OPERATIONAL',\n",
       "   'geometry': {'location': {'lat': 48.8499394, 'lng': 2.3462397},\n",
       "    'viewport': {'northeast': {'lat': 48.8512682802915,\n",
       "      'lng': 2.347501880291502},\n",
       "     'southwest': {'lat': 48.8485703197085, 'lng': 2.344803919708498}}},\n",
       "   'icon': 'https://maps.gstatic.com/mapfiles/place_api/icons/v1/png_71/lodging-71.png',\n",
       "   'name': 'Home Latin',\n",
       "   'photos': [{'height': 606,\n",
       "     'html_attributions': ['<a href=\"https://maps.google.com/maps/contrib/105830788751825835396\">Peter Sheehan</a>'],\n",
       "     'photo_reference': 'Aap_uED5UvIVQ9bGdywBh220VhigAY1j9OC6BoHvnuj7rkFFIQqb1G938CRoPHoXNsaSwOyQPDmaGKqfe_Bawjy1zxNse8WqZzSwP3CsQy_PUkMKs3AKg0bKvjnvsjc5cy0xiO-QaxVbhBWIoHyfAbZv1H04shxWOyu1yUtCVl7rm_95L0o4',\n",
       "     'width': 1080}],\n",
       "   'place_id': 'ChIJMWNDIudx5kcRupjNdNDYKkw',\n",
       "   'plus_code': {'compound_code': 'R8XW+XF Paris, France',\n",
       "    'global_code': '8FW4R8XW+XF'},\n",
       "   'rating': 3.6,\n",
       "   'reference': 'ChIJMWNDIudx5kcRupjNdNDYKkw',\n",
       "   'scope': 'GOOGLE',\n",
       "   'types': ['lodging', 'point_of_interest', 'establishment'],\n",
       "   'user_ratings_total': 265,\n",
       "   'vicinity': '15-17 Rue du Sommerard, Paris'},\n",
       "  {'business_status': 'OPERATIONAL',\n",
       "   'geometry': {'location': {'lat': 48.85473870000001, 'lng': 2.3395455},\n",
       "    'viewport': {'northeast': {'lat': 48.8561127802915,\n",
       "      'lng': 2.340820530291502},\n",
       "     'southwest': {'lat': 48.8534148197085, 'lng': 2.338122569708498}}},\n",
       "   'icon': 'https://maps.gstatic.com/mapfiles/place_api/icons/v1/png_71/lodging-71.png',\n",
       "   'name': \"Hôtel d'Aubusson\",\n",
       "   'opening_hours': {'open_now': True},\n",
       "   'photos': [{'height': 2174,\n",
       "     'html_attributions': ['<a href=\"https://maps.google.com/maps/contrib/115702439863948549296\">Hôtel d&#39;Aubusson Paris</a>'],\n",
       "     'photo_reference': 'Aap_uEANdhpSEXP1EPrsgDK1rsdkDhzbQdGwTV_e8Ypabxnqd3r_KwIaTOGtfvZrvTCvMoSSHi4uQbLnLNwxbM_qYHeSeWSUwh6g_LAyy1c55gXsB_dtVS5M_rysS-rA5j2tQt3zo4tcnZT6URZXn_ZrcbjiHZLS3okJBnANt-_L_LFFhgTM',\n",
       "     'width': 1739}],\n",
       "   'place_id': 'ChIJk6ztMN9x5kcREpQ8edWOs7E',\n",
       "   'plus_code': {'compound_code': 'V83Q+VR Paris, France',\n",
       "    'global_code': '8FW4V83Q+VR'},\n",
       "   'rating': 4.7,\n",
       "   'reference': 'ChIJk6ztMN9x5kcREpQ8edWOs7E',\n",
       "   'scope': 'GOOGLE',\n",
       "   'types': ['lodging', 'point_of_interest', 'establishment'],\n",
       "   'user_ratings_total': 278,\n",
       "   'vicinity': '33 Rue Dauphine, Paris'},\n",
       "  {'business_status': 'OPERATIONAL',\n",
       "   'geometry': {'location': {'lat': 48.85184049999999, 'lng': 2.3448082},\n",
       "    'viewport': {'northeast': {'lat': 48.85313113029149,\n",
       "      'lng': 2.346144730291502},\n",
       "     'southwest': {'lat': 48.8504331697085, 'lng': 2.343446769708498}}},\n",
       "   'icon': 'https://maps.gstatic.com/mapfiles/place_api/icons/v1/png_71/lodging-71.png',\n",
       "   'name': 'Hôtel 4 étoiles Parc Saint Séverin Paris 5ème - Esprit de France',\n",
       "   'opening_hours': {'open_now': True},\n",
       "   'photos': [{'height': 2362,\n",
       "     'html_attributions': ['<a href=\"https://maps.google.com/maps/contrib/107542132357877294567\">Hôtel 4 étoiles Parc Saint Séverin Paris 5ème - Esprit de France</a>'],\n",
       "     'photo_reference': 'Aap_uEAhUt0bgAxf-wgjmk_7ftnz2DfEWODXH7tg0zVQZ33NGdEG65CqA4djMl46SzyuRRpxEyXNyFql402RK8_iVvn9JANZ7RxVZ6z46h2dyP2kHoF7z__WopR2jtwi3-TEO5h2Rr9lrj-SJSPkvDh5933wTnycU-jd9vDIYxoJ8WMC0HFd',\n",
       "     'width': 3776}],\n",
       "   'place_id': 'ChIJ9--kuuBx5kcRojwQ1yEK2cY',\n",
       "   'plus_code': {'compound_code': 'V82V+PW Paris, France',\n",
       "    'global_code': '8FW4V82V+PW'},\n",
       "   'rating': 4.6,\n",
       "   'reference': 'ChIJ9--kuuBx5kcRojwQ1yEK2cY',\n",
       "   'scope': 'GOOGLE',\n",
       "   'types': ['lodging', 'point_of_interest', 'establishment'],\n",
       "   'user_ratings_total': 139,\n",
       "   'vicinity': '22 Rue de la Parcheminerie, Paris'}],\n",
       " 'status': 'OK'}"
      ]
     },
     "metadata": {},
     "execution_count": 19
    }
   ],
   "source": [
    "# Set the parameters to search for a hotel in Paris.\n",
    "params = {\n",
    "    \"radius\": 5000,\n",
    "    \"types\": \"lodging\",\n",
    "    \"key\": g_key,\n",
    "    \"location\": \"48.8566, 2.3522\"}\n",
    "# Use base URL to search for hotels in Paris.\n",
    "base_url = \"https://maps.googleapis.com/maps/api/place/nearbysearch/json\"\n",
    "# Make request and get the JSON data from the search.\n",
    "hotels = requests.get(base_url, params=params).json()\n",
    "\n",
    "hotels"
   ]
  },
  {
   "cell_type": "code",
   "execution_count": 20,
   "metadata": {},
   "outputs": [
    {
     "output_type": "stream",
     "name": "stdout",
     "text": [
      "Hotel not found... skipping.\n",
      "Hotel not found... skipping.\n",
      "Hotel not found... skipping.\n",
      "Hotel not found... skipping.\n"
     ]
    }
   ],
   "source": [
    "# Iterate through the DataFrame.\n",
    "for index, row in hotel_df.iterrows():\n",
    "    # Get the latitude and longitude.\n",
    "    lat = row[\"Lat\"]\n",
    "    lng = row[\"Lng\"]\n",
    "\n",
    "    # Add the latitude and longitude to location key for the params dictionary.\n",
    "    params[\"location\"] = f\"{lat},{lng}\"\n",
    "\n",
    "    # Use the search term: \"lodging\" and our latitude and longitude.\n",
    "    base_url = \"https://maps.googleapis.com/maps/api/place/nearbysearch/json\"\n",
    "    # Make request and get the JSON data from the search.\n",
    "    hotels = requests.get(base_url, params=params).json()\n",
    "    # Grab the first hotel from the results and store the name.\n",
    "    try:\n",
    "        hotel_df.loc[index, \"Hotel Name\"] = hotels[\"results\"][0][\"name\"]\n",
    "    except (IndexError):\n",
    "        print(\"Hotel not found... skipping.\")"
   ]
  },
  {
   "cell_type": "code",
   "execution_count": 21,
   "metadata": {},
   "outputs": [
    {
     "output_type": "execute_result",
     "data": {
      "text/plain": [
       "            City Country  Max Temp      Lat       Lng  \\\n",
       "5      Marrakesh      MA     78.87  31.6315   -8.0083   \n",
       "6   Norman Wells      CA     77.04  65.2820 -126.8329   \n",
       "14      Filingue      NE     77.38  14.3521    3.3168   \n",
       "18        Avarua      CK     78.85 -21.2078 -159.7750   \n",
       "41       Ust-Kut      RU     77.47  56.7938  105.7672   \n",
       "\n",
       "                     Hotel Name  \n",
       "5   Novotel Marrakech Hivernage  \n",
       "6                Heritage Hotel  \n",
       "14                               \n",
       "18                 Paradise Inn  \n",
       "41                 Otel Flagman  "
      ],
      "text/html": "<div>\n<style scoped>\n    .dataframe tbody tr th:only-of-type {\n        vertical-align: middle;\n    }\n\n    .dataframe tbody tr th {\n        vertical-align: top;\n    }\n\n    .dataframe thead th {\n        text-align: right;\n    }\n</style>\n<table border=\"1\" class=\"dataframe\">\n  <thead>\n    <tr style=\"text-align: right;\">\n      <th></th>\n      <th>City</th>\n      <th>Country</th>\n      <th>Max Temp</th>\n      <th>Lat</th>\n      <th>Lng</th>\n      <th>Hotel Name</th>\n    </tr>\n  </thead>\n  <tbody>\n    <tr>\n      <th>5</th>\n      <td>Marrakesh</td>\n      <td>MA</td>\n      <td>78.87</td>\n      <td>31.6315</td>\n      <td>-8.0083</td>\n      <td>Novotel Marrakech Hivernage</td>\n    </tr>\n    <tr>\n      <th>6</th>\n      <td>Norman Wells</td>\n      <td>CA</td>\n      <td>77.04</td>\n      <td>65.2820</td>\n      <td>-126.8329</td>\n      <td>Heritage Hotel</td>\n    </tr>\n    <tr>\n      <th>14</th>\n      <td>Filingue</td>\n      <td>NE</td>\n      <td>77.38</td>\n      <td>14.3521</td>\n      <td>3.3168</td>\n      <td></td>\n    </tr>\n    <tr>\n      <th>18</th>\n      <td>Avarua</td>\n      <td>CK</td>\n      <td>78.85</td>\n      <td>-21.2078</td>\n      <td>-159.7750</td>\n      <td>Paradise Inn</td>\n    </tr>\n    <tr>\n      <th>41</th>\n      <td>Ust-Kut</td>\n      <td>RU</td>\n      <td>77.47</td>\n      <td>56.7938</td>\n      <td>105.7672</td>\n      <td>Otel Flagman</td>\n    </tr>\n  </tbody>\n</table>\n</div>"
     },
     "metadata": {},
     "execution_count": 21
    }
   ],
   "source": [
    "hotel_df.head()"
   ]
  },
  {
   "cell_type": "code",
   "execution_count": 22,
   "metadata": {},
   "outputs": [
    {
     "output_type": "display_data",
     "data": {
      "text/plain": "Figure(layout=FigureLayout(height='420px'))",
      "application/vnd.jupyter.widget-view+json": {
       "version_major": 2,
       "version_minor": 0,
       "model_id": "905958b68f9a43159de51ba465a1afa3"
      }
     },
     "metadata": {}
    }
   ],
   "source": [
    "# Add a heatmap of temperature for the vacation spots and marker for each city.\n",
    "locations = hotel_df[[\"Lat\", \"Lng\"]]\n",
    "max_temp = hotel_df[\"Max Temp\"]\n",
    "fig = gmaps.figure(center=(30.0, 31.0), zoom_level=1.5)\n",
    "heat_layer = gmaps.heatmap_layer(locations, weights=max_temp,\n",
    "             dissipating=False, max_intensity=300, point_radius=4)\n",
    "marker_layer = gmaps.marker_layer(locations)\n",
    "fig.add_layer(heat_layer)\n",
    "fig.add_layer(marker_layer)\n",
    "# Call the figure to plot the data.\n",
    "fig"
   ]
  },
  {
   "cell_type": "code",
   "execution_count": 23,
   "metadata": {},
   "outputs": [
    {
     "output_type": "display_data",
     "data": {
      "text/plain": "Figure(layout=FigureLayout(height='420px'))",
      "application/vnd.jupyter.widget-view+json": {
       "version_major": 2,
       "version_minor": 0,
       "model_id": "d5f539c506f443509d069a4234035b35"
      }
     },
     "metadata": {}
    }
   ],
   "source": [
    "info_box_template = \"\"\"\n",
    "<dl>\n",
    "<dt>Hotel Name</dt><dd>{Hotel Name}</dd>\n",
    "<dt>City</dt><dd>{City}</dd>\n",
    "<dt>Country</dt><dd>{Country}</dd>\n",
    "<dt>Max Temp</dt><dd>{Max Temp} °F</dd>\n",
    "</dl>\n",
    "\"\"\"\n",
    "# Store the DataFrame Row.\n",
    "hotel_info = [info_box_template.format(**row) for index, row in hotel_df.iterrows()]\n",
    "\n",
    "# Add a heatmap of temperature for the vacation spots and a pop-up marker for each city.\n",
    "locations = hotel_df[[\"Lat\", \"Lng\"]]\n",
    "max_temp = hotel_df[\"Max Temp\"]\n",
    "fig = gmaps.figure(center=(30.0, 31.0), zoom_level=1.5)\n",
    "heat_layer = gmaps.heatmap_layer(locations, weights=max_temp,dissipating=False,\n",
    "             max_intensity=300, point_radius=4)\n",
    "marker_layer = gmaps.marker_layer(locations, info_box_content=hotel_info)\n",
    "fig.add_layer(heat_layer)\n",
    "fig.add_layer(marker_layer)\n",
    "\n",
    "# Call the figure to plot the data.\n",
    "fig"
   ]
  },
  {
   "cell_type": "code",
   "execution_count": null,
   "metadata": {},
   "outputs": [],
   "source": []
  }
 ],
 "metadata": {
  "kernelspec": {
   "name": "python3",
   "display_name": "Python 3.8.10 64-bit ('PyData': conda)"
  },
  "language_info": {
   "codemirror_mode": {
    "name": "ipython",
    "version": 3
   },
   "file_extension": ".py",
   "mimetype": "text/x-python",
   "name": "python",
   "nbconvert_exporter": "python",
   "pygments_lexer": "ipython3",
   "version": "3.8.10"
  },
  "interpreter": {
   "hash": "abe290642d551b78aa3d918a6b1e3a25aa3295161d70f949d9308b831a06f1c3"
  }
 },
 "nbformat": 4,
 "nbformat_minor": 5
}