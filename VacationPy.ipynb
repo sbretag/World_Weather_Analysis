{
 "cells": [
  {
   "cell_type": "code",
   "execution_count": 77,
   "id": "460e723b-e34b-4d57-9768-797c0a62462d",
   "metadata": {},
   "outputs": [],
   "source": [
    "# Import the dependencies.\n",
    "import pandas as pd\n",
    "import gmaps\n",
    "import requests\n",
    "# Import the API key.\n",
    "from config import g_key"
   ]
  },
  {
   "cell_type": "code",
   "execution_count": 78,
   "id": "fb722002-cf91-4c5a-98bb-282f880fe69c",
   "metadata": {},
   "outputs": [
    {
     "output_type": "execute_result",
     "data": {
      "text/plain": [
       "   City_ID         City Country                 Date      Lat       Lng  \\\n",
       "0        0    Ilulissat      GL  2021-07-18 19:11:23  69.2167  -51.1000   \n",
       "1        1     Hermanus      ZA  2021-07-18 19:11:24 -34.4187   19.2345   \n",
       "2        2  Lukovetskiy      RU  2021-07-18 19:11:24  64.2956   41.9211   \n",
       "3        3  Porto Santo      PT  2021-07-18 19:11:24  33.0720  -16.3415   \n",
       "4        4        Tiksi      RU  2021-07-18 19:11:24  71.6872  128.8694   \n",
       "\n",
       "   Max Temp  Humidity  Cloudiness  Wind Speed  \n",
       "0     53.62        58          75        5.75  \n",
       "1     58.87        66          13        2.35  \n",
       "2     73.38        63           4        6.24  \n",
       "3     73.31        68          40        9.22  \n",
       "4     41.92        74         100        5.06  "
      ],
      "text/html": "<div>\n<style scoped>\n    .dataframe tbody tr th:only-of-type {\n        vertical-align: middle;\n    }\n\n    .dataframe tbody tr th {\n        vertical-align: top;\n    }\n\n    .dataframe thead th {\n        text-align: right;\n    }\n</style>\n<table border=\"1\" class=\"dataframe\">\n  <thead>\n    <tr style=\"text-align: right;\">\n      <th></th>\n      <th>City_ID</th>\n      <th>City</th>\n      <th>Country</th>\n      <th>Date</th>\n      <th>Lat</th>\n      <th>Lng</th>\n      <th>Max Temp</th>\n      <th>Humidity</th>\n      <th>Cloudiness</th>\n      <th>Wind Speed</th>\n    </tr>\n  </thead>\n  <tbody>\n    <tr>\n      <th>0</th>\n      <td>0</td>\n      <td>Ilulissat</td>\n      <td>GL</td>\n      <td>2021-07-18 19:11:23</td>\n      <td>69.2167</td>\n      <td>-51.1000</td>\n      <td>53.62</td>\n      <td>58</td>\n      <td>75</td>\n      <td>5.75</td>\n    </tr>\n    <tr>\n      <th>1</th>\n      <td>1</td>\n      <td>Hermanus</td>\n      <td>ZA</td>\n      <td>2021-07-18 19:11:24</td>\n      <td>-34.4187</td>\n      <td>19.2345</td>\n      <td>58.87</td>\n      <td>66</td>\n      <td>13</td>\n      <td>2.35</td>\n    </tr>\n    <tr>\n      <th>2</th>\n      <td>2</td>\n      <td>Lukovetskiy</td>\n      <td>RU</td>\n      <td>2021-07-18 19:11:24</td>\n      <td>64.2956</td>\n      <td>41.9211</td>\n      <td>73.38</td>\n      <td>63</td>\n      <td>4</td>\n      <td>6.24</td>\n    </tr>\n    <tr>\n      <th>3</th>\n      <td>3</td>\n      <td>Porto Santo</td>\n      <td>PT</td>\n      <td>2021-07-18 19:11:24</td>\n      <td>33.0720</td>\n      <td>-16.3415</td>\n      <td>73.31</td>\n      <td>68</td>\n      <td>40</td>\n      <td>9.22</td>\n    </tr>\n    <tr>\n      <th>4</th>\n      <td>4</td>\n      <td>Tiksi</td>\n      <td>RU</td>\n      <td>2021-07-18 19:11:24</td>\n      <td>71.6872</td>\n      <td>128.8694</td>\n      <td>41.92</td>\n      <td>74</td>\n      <td>100</td>\n      <td>5.06</td>\n    </tr>\n  </tbody>\n</table>\n</div>"
     },
     "metadata": {},
     "execution_count": 78
    }
   ],
   "source": [
    "# Store the CSV you saved created in part one into a DataFrame.\n",
    "city_data_df = pd.read_csv(\"weather_data/cities.csv\")\n",
    "city_data_df.head()"
   ]
  },
  {
   "cell_type": "code",
   "execution_count": 79,
   "id": "73e4340b-8708-4b59-b7e8-b55e5e7126cc",
   "metadata": {},
   "outputs": [
    {
     "output_type": "execute_result",
     "data": {
      "text/plain": [
       "City_ID         int64\n",
       "City           object\n",
       "Country        object\n",
       "Date           object\n",
       "Lat           float64\n",
       "Lng           float64\n",
       "Max Temp      float64\n",
       "Humidity        int64\n",
       "Cloudiness      int64\n",
       "Wind Speed    float64\n",
       "dtype: object"
      ]
     },
     "metadata": {},
     "execution_count": 79
    }
   ],
   "source": [
    "city_data_df.dtypes\n"
   ]
  },
  {
   "cell_type": "code",
   "execution_count": 80,
   "id": "d8018506-df07-4d7d-aa54-241e9dedcf7e",
   "metadata": {},
   "outputs": [],
   "source": [
    "# Configure gmaps to use your Google API key.\n",
    "gmaps.configure(api_key=g_key)"
   ]
  },
  {
   "cell_type": "code",
   "execution_count": 81,
   "id": "30dcf0bb-72d5-45d7-96ab-c5608ee4e9c3",
   "metadata": {},
   "outputs": [
    {
     "output_type": "error",
     "ename": "NameError",
     "evalue": "name 'temps' is not defined",
     "traceback": [
      "\u001b[1;31m---------------------------------------------------------------------------\u001b[0m",
      "\u001b[1;31mNameError\u001b[0m                                 Traceback (most recent call last)",
      "\u001b[1;32m~\\AppData\\Local\\Temp/ipykernel_24860/2586897841.py\u001b[0m in \u001b[0;36m<module>\u001b[1;34m\u001b[0m\n\u001b[0;32m      7\u001b[0m \u001b[0mfig\u001b[0m \u001b[1;33m=\u001b[0m \u001b[0mgmaps\u001b[0m\u001b[1;33m.\u001b[0m\u001b[0mfigure\u001b[0m\u001b[1;33m(\u001b[0m\u001b[1;33m)\u001b[0m\u001b[1;33m\u001b[0m\u001b[1;33m\u001b[0m\u001b[0m\n\u001b[0;32m      8\u001b[0m \u001b[1;31m# Assign the heatmap variable.\u001b[0m\u001b[1;33m\u001b[0m\u001b[1;33m\u001b[0m\u001b[1;33m\u001b[0m\u001b[0m\n\u001b[1;32m----> 9\u001b[1;33m \u001b[0mheat_layer\u001b[0m \u001b[1;33m=\u001b[0m \u001b[0mgmaps\u001b[0m\u001b[1;33m.\u001b[0m\u001b[0mheatmap_layer\u001b[0m\u001b[1;33m(\u001b[0m\u001b[0mlocations\u001b[0m\u001b[1;33m,\u001b[0m \u001b[0mweights\u001b[0m\u001b[1;33m=\u001b[0m\u001b[0mtemps\u001b[0m\u001b[1;33m,\u001b[0m \u001b[0mdissipating\u001b[0m\u001b[1;33m=\u001b[0m\u001b[1;32mFalse\u001b[0m\u001b[1;33m,\u001b[0m \u001b[0mmax_intensity\u001b[0m\u001b[1;33m=\u001b[0m\u001b[1;36m300\u001b[0m\u001b[1;33m,\u001b[0m \u001b[0mpoint_radius\u001b[0m\u001b[1;33m=\u001b[0m\u001b[1;36m4\u001b[0m\u001b[1;33m)\u001b[0m\u001b[1;33m\u001b[0m\u001b[1;33m\u001b[0m\u001b[0m\n\u001b[0m\u001b[0;32m     10\u001b[0m \u001b[1;31m# Add the heatmap layer.\u001b[0m\u001b[1;33m\u001b[0m\u001b[1;33m\u001b[0m\u001b[1;33m\u001b[0m\u001b[0m\n\u001b[0;32m     11\u001b[0m \u001b[0mfig\u001b[0m\u001b[1;33m.\u001b[0m\u001b[0madd_layer\u001b[0m\u001b[1;33m(\u001b[0m\u001b[0mheat_layer\u001b[0m\u001b[1;33m)\u001b[0m\u001b[1;33m\u001b[0m\u001b[1;33m\u001b[0m\u001b[0m\n",
      "\u001b[1;31mNameError\u001b[0m: name 'temps' is not defined"
     ]
    }
   ],
   "source": [
    "# Heatmap of temperature\n",
    "# Get the latitude and longitude.\n",
    "locations = city_data_df[[\"Lat\", \"Lng\"]]\n",
    "# Get the maximum temperature.\n",
    "max_temp = city_data_df[\"Max Temp\"]\n",
    "# Assign the figure variable.\n",
    "fig = gmaps.figure()\n",
    "# Assign the heatmap variable.\n",
    "heat_layer = gmaps.heatmap_layer(locations, weights=temps, dissipating=False, max_intensity=300, point_radius=4)\n",
    "# Add the heatmap layer.\n",
    "fig.add_layer(heat_layer)\n",
    "# Call the figure to plot the data.\n",
    "fig"
   ]
  },
  {
   "cell_type": "code",
   "execution_count": 53,
   "id": "b33475ff-e39a-4548-aae0-2f52fdf62a41",
   "metadata": {},
   "outputs": [
    {
     "output_type": "display_data",
     "data": {
      "text/plain": "Figure(layout=FigureLayout(height='420px'))",
      "application/vnd.jupyter.widget-view+json": {
       "version_major": 2,
       "version_minor": 0,
       "model_id": "acdae17f520a458bb97052ef533c64a4"
      }
     },
     "metadata": {}
    }
   ],
   "source": [
    "# Heatmap of percent humidity\n",
    "locations = city_data_df[[\"Lat\", \"Lng\"]]\n",
    "humidity = city_data_df[\"Humidity\"]\n",
    "fig = gmaps.figure(center=(30.0, 31.0), zoom_level=1.5)\n",
    "heat_layer = gmaps.heatmap_layer(locations, weights=humidity, dissipating=False, max_intensity=300, point_radius=4)\n",
    "\n",
    "fig.add_layer(heat_layer)\n",
    "# Call the figure to plot the data.\n",
    "fig"
   ]
  },
  {
   "cell_type": "code",
   "execution_count": 54,
   "id": "72086c76-c94d-40fe-9ed7-57f40c2ca217",
   "metadata": {},
   "outputs": [
    {
     "output_type": "display_data",
     "data": {
      "text/plain": "Figure(layout=FigureLayout(height='420px'))",
      "application/vnd.jupyter.widget-view+json": {
       "version_major": 2,
       "version_minor": 0,
       "model_id": "65c5f55e9ebf40729128a3888eada8e3"
      }
     },
     "metadata": {}
    }
   ],
   "source": [
    "# Heatmap of cloudiness\n",
    "locations = city_data_df[[\"Lat\", \"Lng\"]]\n",
    "clouds = city_data_df[\"Cloudiness\"]\n",
    "fig = gmaps.figure(center=(30.0, 31.0), zoom_level=1.5)\n",
    "heat_layer = gmaps.heatmap_layer(locations, weights=clouds, dissipating=False, max_intensity=300, point_radius=4)\n",
    "\n",
    "fig.add_layer(heat_layer)\n",
    "# Call the figure to plot the data.\n",
    "fig"
   ]
  },
  {
   "cell_type": "code",
   "execution_count": 56,
   "metadata": {},
   "outputs": [
    {
     "output_type": "display_data",
     "data": {
      "text/plain": "Figure(layout=FigureLayout(height='420px'))",
      "application/vnd.jupyter.widget-view+json": {
       "version_major": 2,
       "version_minor": 0,
       "model_id": "62b57190f4a549dda59395430b1035e9"
      }
     },
     "metadata": {}
    }
   ],
   "source": [
    "# Heatmap of Wind Speed\n",
    "locations = city_data_df[[\"Lat\", \"Lng\"]]\n",
    "wind = city_data_df[\"Wind Speed\"]\n",
    "fig = gmaps.figure(center=(30.0, 31.0), zoom_level=1.5)\n",
    "heat_layer = gmaps.heatmap_layer(locations, weights=wind, dissipating=False, max_intensity=300, point_radius=4)\n",
    "\n",
    "fig.add_layer(heat_layer)\n",
    "# Call the figure to plot the data.\n",
    "fig\n"
   ]
  },
  {
   "cell_type": "code",
   "execution_count": 19,
   "metadata": {},
   "outputs": [],
   "source": [
    "# Ask the customer to add a minimum and maximum temperature value.\n",
    "min_temp = float(input(\"What is the minimum temperature you would like for your trip? \"))\n",
    "max_temp = float(input(\"What is the maximum temperature you would like for your trip? \"))"
   ]
  },
  {
   "cell_type": "code",
   "execution_count": 20,
   "metadata": {},
   "outputs": [
    {
     "output_type": "execute_result",
     "data": {
      "text/plain": [
       "    City_ID             City Country                 Date      Lat       Lng  \\\n",
       "5         5  Lazaro Cardenas      MX  2021-07-18 19:11:25  17.9583 -102.2000   \n",
       "10       10           Touros      BR  2021-07-18 19:11:26  -5.1989  -35.4608   \n",
       "15       15       Butaritari      KI  2021-07-18 19:11:28   3.0707  172.7902   \n",
       "16       16        Jamestown      US  2021-07-18 19:11:28  42.0970  -79.2353   \n",
       "23       23       Georgetown      MY  2021-07-18 19:11:30   5.4112  100.3354   \n",
       "25       25      Saint-Denis      FR  2021-07-18 19:11:31  48.9167    2.3333   \n",
       "31       31            Alofi      NU  2021-07-18 19:11:32 -19.0595 -169.9187   \n",
       "33       33           Pandan      PH  2021-07-18 19:11:33  14.0453  124.1694   \n",
       "35       35           Gallup      US  2021-07-18 19:11:34  35.5281 -108.7426   \n",
       "41       41           Polson      US  2021-07-18 19:11:36  47.6936 -114.1632   \n",
       "\n",
       "    Max Temp  Humidity  Cloudiness  Wind Speed  \n",
       "5      85.08        73          22        4.21  \n",
       "10     79.70        68          49       15.99  \n",
       "15     82.83        76         100       12.88  \n",
       "16     78.30        73           1       10.36  \n",
       "23     80.53        94          20        0.00  \n",
       "25     81.99        52           0        9.22  \n",
       "31     76.80        80          11       18.90  \n",
       "33     81.50        82         100        9.93  \n",
       "35     86.76        33          40        1.01  \n",
       "41     84.42        43           0        1.01  "
      ],
      "text/html": "<div>\n<style scoped>\n    .dataframe tbody tr th:only-of-type {\n        vertical-align: middle;\n    }\n\n    .dataframe tbody tr th {\n        vertical-align: top;\n    }\n\n    .dataframe thead th {\n        text-align: right;\n    }\n</style>\n<table border=\"1\" class=\"dataframe\">\n  <thead>\n    <tr style=\"text-align: right;\">\n      <th></th>\n      <th>City_ID</th>\n      <th>City</th>\n      <th>Country</th>\n      <th>Date</th>\n      <th>Lat</th>\n      <th>Lng</th>\n      <th>Max Temp</th>\n      <th>Humidity</th>\n      <th>Cloudiness</th>\n      <th>Wind Speed</th>\n    </tr>\n  </thead>\n  <tbody>\n    <tr>\n      <th>5</th>\n      <td>5</td>\n      <td>Lazaro Cardenas</td>\n      <td>MX</td>\n      <td>2021-07-18 19:11:25</td>\n      <td>17.9583</td>\n      <td>-102.2000</td>\n      <td>85.08</td>\n      <td>73</td>\n      <td>22</td>\n      <td>4.21</td>\n    </tr>\n    <tr>\n      <th>10</th>\n      <td>10</td>\n      <td>Touros</td>\n      <td>BR</td>\n      <td>2021-07-18 19:11:26</td>\n      <td>-5.1989</td>\n      <td>-35.4608</td>\n      <td>79.70</td>\n      <td>68</td>\n      <td>49</td>\n      <td>15.99</td>\n    </tr>\n    <tr>\n      <th>15</th>\n      <td>15</td>\n      <td>Butaritari</td>\n      <td>KI</td>\n      <td>2021-07-18 19:11:28</td>\n      <td>3.0707</td>\n      <td>172.7902</td>\n      <td>82.83</td>\n      <td>76</td>\n      <td>100</td>\n      <td>12.88</td>\n    </tr>\n    <tr>\n      <th>16</th>\n      <td>16</td>\n      <td>Jamestown</td>\n      <td>US</td>\n      <td>2021-07-18 19:11:28</td>\n      <td>42.0970</td>\n      <td>-79.2353</td>\n      <td>78.30</td>\n      <td>73</td>\n      <td>1</td>\n      <td>10.36</td>\n    </tr>\n    <tr>\n      <th>23</th>\n      <td>23</td>\n      <td>Georgetown</td>\n      <td>MY</td>\n      <td>2021-07-18 19:11:30</td>\n      <td>5.4112</td>\n      <td>100.3354</td>\n      <td>80.53</td>\n      <td>94</td>\n      <td>20</td>\n      <td>0.00</td>\n    </tr>\n    <tr>\n      <th>25</th>\n      <td>25</td>\n      <td>Saint-Denis</td>\n      <td>FR</td>\n      <td>2021-07-18 19:11:31</td>\n      <td>48.9167</td>\n      <td>2.3333</td>\n      <td>81.99</td>\n      <td>52</td>\n      <td>0</td>\n      <td>9.22</td>\n    </tr>\n    <tr>\n      <th>31</th>\n      <td>31</td>\n      <td>Alofi</td>\n      <td>NU</td>\n      <td>2021-07-18 19:11:32</td>\n      <td>-19.0595</td>\n      <td>-169.9187</td>\n      <td>76.80</td>\n      <td>80</td>\n      <td>11</td>\n      <td>18.90</td>\n    </tr>\n    <tr>\n      <th>33</th>\n      <td>33</td>\n      <td>Pandan</td>\n      <td>PH</td>\n      <td>2021-07-18 19:11:33</td>\n      <td>14.0453</td>\n      <td>124.1694</td>\n      <td>81.50</td>\n      <td>82</td>\n      <td>100</td>\n      <td>9.93</td>\n    </tr>\n    <tr>\n      <th>35</th>\n      <td>35</td>\n      <td>Gallup</td>\n      <td>US</td>\n      <td>2021-07-18 19:11:34</td>\n      <td>35.5281</td>\n      <td>-108.7426</td>\n      <td>86.76</td>\n      <td>33</td>\n      <td>40</td>\n      <td>1.01</td>\n    </tr>\n    <tr>\n      <th>41</th>\n      <td>41</td>\n      <td>Polson</td>\n      <td>US</td>\n      <td>2021-07-18 19:11:36</td>\n      <td>47.6936</td>\n      <td>-114.1632</td>\n      <td>84.42</td>\n      <td>43</td>\n      <td>0</td>\n      <td>1.01</td>\n    </tr>\n  </tbody>\n</table>\n</div>"
     },
     "metadata": {},
     "execution_count": 20
    }
   ],
   "source": [
    "# Filter the dataset to find the cities that fit the criteria.\n",
    "preferred_cities_df = city_data_df.loc[(city_data_df[\"Max Temp\"] <= max_temp) & \\\n",
    "                                       (city_data_df[\"Max Temp\"] >= min_temp)]\n",
    "preferred_cities_df.head(10)"
   ]
  },
  {
   "cell_type": "code",
   "execution_count": 21,
   "metadata": {},
   "outputs": [
    {
     "output_type": "execute_result",
     "data": {
      "text/plain": [
       "City_ID       187\n",
       "City          187\n",
       "Country       187\n",
       "Date          187\n",
       "Lat           187\n",
       "Lng           187\n",
       "Max Temp      187\n",
       "Humidity      187\n",
       "Cloudiness    187\n",
       "Wind Speed    187\n",
       "dtype: int64"
      ]
     },
     "metadata": {},
     "execution_count": 21
    }
   ],
   "source": [
    "preferred_cities_df.count()"
   ]
  },
  {
   "cell_type": "code",
   "execution_count": 22,
   "metadata": {},
   "outputs": [
    {
     "output_type": "execute_result",
     "data": {
      "text/plain": [
       "               City Country  Max Temp      Lat       Lng Hotel Name\n",
       "5   Lazaro Cardenas      MX     85.08  17.9583 -102.2000           \n",
       "10           Touros      BR     79.70  -5.1989  -35.4608           \n",
       "15       Butaritari      KI     82.83   3.0707  172.7902           \n",
       "16        Jamestown      US     78.30  42.0970  -79.2353           \n",
       "23       Georgetown      MY     80.53   5.4112  100.3354           \n",
       "25      Saint-Denis      FR     81.99  48.9167    2.3333           \n",
       "31            Alofi      NU     76.80 -19.0595 -169.9187           \n",
       "33           Pandan      PH     81.50  14.0453  124.1694           \n",
       "35           Gallup      US     86.76  35.5281 -108.7426           \n",
       "41           Polson      US     84.42  47.6936 -114.1632           "
      ],
      "text/html": "<div>\n<style scoped>\n    .dataframe tbody tr th:only-of-type {\n        vertical-align: middle;\n    }\n\n    .dataframe tbody tr th {\n        vertical-align: top;\n    }\n\n    .dataframe thead th {\n        text-align: right;\n    }\n</style>\n<table border=\"1\" class=\"dataframe\">\n  <thead>\n    <tr style=\"text-align: right;\">\n      <th></th>\n      <th>City</th>\n      <th>Country</th>\n      <th>Max Temp</th>\n      <th>Lat</th>\n      <th>Lng</th>\n      <th>Hotel Name</th>\n    </tr>\n  </thead>\n  <tbody>\n    <tr>\n      <th>5</th>\n      <td>Lazaro Cardenas</td>\n      <td>MX</td>\n      <td>85.08</td>\n      <td>17.9583</td>\n      <td>-102.2000</td>\n      <td></td>\n    </tr>\n    <tr>\n      <th>10</th>\n      <td>Touros</td>\n      <td>BR</td>\n      <td>79.70</td>\n      <td>-5.1989</td>\n      <td>-35.4608</td>\n      <td></td>\n    </tr>\n    <tr>\n      <th>15</th>\n      <td>Butaritari</td>\n      <td>KI</td>\n      <td>82.83</td>\n      <td>3.0707</td>\n      <td>172.7902</td>\n      <td></td>\n    </tr>\n    <tr>\n      <th>16</th>\n      <td>Jamestown</td>\n      <td>US</td>\n      <td>78.30</td>\n      <td>42.0970</td>\n      <td>-79.2353</td>\n      <td></td>\n    </tr>\n    <tr>\n      <th>23</th>\n      <td>Georgetown</td>\n      <td>MY</td>\n      <td>80.53</td>\n      <td>5.4112</td>\n      <td>100.3354</td>\n      <td></td>\n    </tr>\n    <tr>\n      <th>25</th>\n      <td>Saint-Denis</td>\n      <td>FR</td>\n      <td>81.99</td>\n      <td>48.9167</td>\n      <td>2.3333</td>\n      <td></td>\n    </tr>\n    <tr>\n      <th>31</th>\n      <td>Alofi</td>\n      <td>NU</td>\n      <td>76.80</td>\n      <td>-19.0595</td>\n      <td>-169.9187</td>\n      <td></td>\n    </tr>\n    <tr>\n      <th>33</th>\n      <td>Pandan</td>\n      <td>PH</td>\n      <td>81.50</td>\n      <td>14.0453</td>\n      <td>124.1694</td>\n      <td></td>\n    </tr>\n    <tr>\n      <th>35</th>\n      <td>Gallup</td>\n      <td>US</td>\n      <td>86.76</td>\n      <td>35.5281</td>\n      <td>-108.7426</td>\n      <td></td>\n    </tr>\n    <tr>\n      <th>41</th>\n      <td>Polson</td>\n      <td>US</td>\n      <td>84.42</td>\n      <td>47.6936</td>\n      <td>-114.1632</td>\n      <td></td>\n    </tr>\n  </tbody>\n</table>\n</div>"
     },
     "metadata": {},
     "execution_count": 22
    }
   ],
   "source": [
    "# Create DataFrame called hotel_df to store hotel names along with city, country, max temp, and coordinates.\n",
    "hotel_df = preferred_cities_df[[\"City\", \"Country\", \"Max Temp\", \"Lat\", \"Lng\"]].copy()\n",
    "hotel_df[\"Hotel Name\"] = \"\"\n",
    "hotel_df.head(10)"
   ]
  },
  {
   "cell_type": "code",
   "execution_count": 23,
   "metadata": {},
   "outputs": [],
   "source": [
    "# Set parameters to search for a hotel.\n",
    "params = {\n",
    "    \"radius\": 5000,\n",
    "    \"type\": \"lodging\",\n",
    "    \"key\": g_key\n",
    "}"
   ]
  },
  {
   "cell_type": "code",
   "execution_count": 24,
   "metadata": {},
   "outputs": [],
   "source": [
    "# Dependencies and Setup\n",
    "import requests\n",
    "import gmaps\n",
    "\n",
    "# Import API key\n",
    "from config import g_key"
   ]
  },
  {
   "cell_type": "code",
   "execution_count": 25,
   "metadata": {},
   "outputs": [
    {
     "output_type": "execute_result",
     "data": {
      "text/plain": [
       "n_now': True},\n",
       "   'photos': [{'height': 2000,\n",
       "     'html_attributions': ['<a href=\"https://maps.google.com/maps/contrib/111815616573299411056\">Novotel Paris Les Halles</a>'],\n",
       "     'photo_reference': 'Aap_uECHfh0jI19cKnVkSQRGIHwk22yahQKjiNrn-VAjUhCpBSUfmu-_PRT1mH7GkCR8pX5ea04XLLfZ1LWY6wL8HuEaDBFiZVSZkpkGnaJbgaGm4Jic1pNK0VaVlZWMRwEx6E3sE2_AAKnECZDKWt_dKn3vj_9xhRJL5_I4HrWJxSeQws25',\n",
       "     'width': 3000}],\n",
       "   'place_id': 'ChIJGW2pNx9u5kcRI3oyL8NG5BQ',\n",
       "   'plus_code': {'compound_code': 'V86W+8J Paris, France',\n",
       "    'global_code': '8FW4V86W+8J'},\n",
       "   'rating': 4.4,\n",
       "   'reference': 'ChIJGW2pNx9u5kcRI3oyL8NG5BQ',\n",
       "   'scope': 'GOOGLE',\n",
       "   'types': ['lodging', 'point_of_interest', 'establishment'],\n",
       "   'user_ratings_total': 2159,\n",
       "   'vicinity': '8 Place Marguerite de Navarre, Paris'},\n",
       "  {'business_status': 'OPERATIONAL',\n",
       "   'geometry': {'location': {'lat': 48.86034799999999, 'lng': 2.344054},\n",
       "    'viewport': {'northeast': {'lat': 48.8616503302915,\n",
       "      'lng': 2.345521080291502},\n",
       "     'southwest': {'lat': 48.8589523697085, 'lng': 2.342823119708498}}},\n",
       "   'icon': 'https://maps.gstatic.com/mapfiles/place_api/icons/v1/png_71/lodging-71.png',\n",
       "   'name': 'Hôtel Ducs de Bourgogne',\n",
       "   'opening_hours': {'open_now': True},\n",
       "   'photos': [{'height': 1390,\n",
       "     'html_attributions': ['<a href=\"https://maps.google.com/maps/contrib/101411638353598558320\">Hôtel Ducs de Bourgogne</a>'],\n",
       "     'photo_reference': 'Aap_uEA7p77ULLRgNQ5xZPbgW50TJ-J-gyjHCfsBxsVneKKE-9A7fH8tpylAiwVfB_2HCjA8sOrmdisEBFu_GEZbqG1Wm9gCL-ukqyjrAVZEiRZh1ed4uxZh7c491sAa4kEUV_nwf36WeTwNErtBk_dKX0_SFqI7PVD0SxwPPACu7h8v7gLa',\n",
       "     'width': 2048}],\n",
       "   'place_id': 'ChIJifTG5yFu5kcRdnisbwxnAx4',\n",
       "   'plus_code': {'compound_code': 'V86V+4J Paris, France',\n",
       "    'global_code': '8FW4V86V+4J'},\n",
       "   'rating': 4.5,\n",
       "   'reference': 'ChIJifTG5yFu5kcRdnisbwxnAx4',\n",
       "   'scope': 'GOOGLE',\n",
       "   'types': ['lodging', 'point_of_interest', 'establishment'],\n",
       "   'user_ratings_total': 277,\n",
       "   'vicinity': '19 Rue du Pont Neuf, Paris'},\n",
       "  {'business_status': 'OPERATIONAL',\n",
       "   'geometry': {'location': {'lat': 48.8555091, 'lng': 2.3408736},\n",
       "    'viewport': {'northeast': {'lat': 48.8569076302915,\n",
       "      'lng': 2.342319280291502},\n",
       "     'southwest': {'lat': 48.8542096697085, 'lng': 2.339621319708498}}},\n",
       "   'icon': 'https://maps.gstatic.com/mapfiles/place_api/icons/v1/png_71/lodging-71.png',\n",
       "   'name': 'Citadines Saint-Germain-des-Prés Paris (Apart hotel Paris)',\n",
       "   'opening_hours': {'open_now': True},\n",
       "   'photos': [{'height': 4480,\n",
       "     'html_attributions': ['<a href=\"https://maps.google.com/maps/contrib/113188832595116816387\">Citadines Saint-Germain-des-Prés Paris</a>'],\n",
       "     'photo_reference': 'Aap_uEBdt6C03ovHlUSS9T8clf2ZUCf9RHDf7eozn3C4UD9kiw96NnGgH_-II6a-F0Gql2zrPDMxl7eCqDUqS5Z_eGZ8UbaFYb2i0XrDsMTQsjCgOH5OS9HGKueRwXH6Sr4RjjmkbPOO-PfD8pL23gMMLZ-7BJb5zdmm3FMdASJZicdI1Lba',\n",
       "     'width': 6720}],\n",
       "   'place_id': 'ChIJo5pYcN9x5kcRERXdocMgqmE',\n",
       "   'plus_code': {'compound_code': 'V84R+68 Paris, France',\n",
       "    'global_code': '8FW4V84R+68'},\n",
       "   'rating': 4.3,\n",
       "   'reference': 'ChIJo5pYcN9x5kcRERXdocMgqmE',\n",
       "   'scope': 'GOOGLE',\n",
       "   'types': ['lodging', 'point_of_interest', 'establishment'],\n",
       "   'user_ratings_total': 672,\n",
       "   'vicinity': '53 ter Quai des Grands Augustins, Paris'},\n",
       "  {'business_status': 'OPERATIONAL',\n",
       "   'geometry': {'location': {'lat': 48.86634659999999, 'lng': 2.36064},\n",
       "    'viewport': {'northeast': {'lat': 48.86774953029149,\n",
       "      'lng': 2.361898330291501},\n",
       "     'southwest': {'lat': 48.86505156970849, 'lng': 2.359200369708498}}},\n",
       "   'icon': 'https://maps.gstatic.com/mapfiles/place_api/icons/v1/png_71/lodging-71.png',\n",
       "   'name': 'Paris France Hôtel',\n",
       "   'opening_hours': {'open_now': True},\n",
       "   'photos': [{'height': 2673,\n",
       "     'html_attributions': ['<a href=\"https://maps.google.com/maps/contrib/102332962500946068613\">Paris France Hôtel</a>'],\n",
       "     'photo_reference': 'Aap_uEAlaXkbVxcUxK0lhDhn24zgP-w1Z-qUrbGqlnH3m8YCgZRYtqSIdIvtCcnwsiXKFK0gGI6-uBlf3RsE7yOrF0N6ElBSTNvCEqvD6kFlF5w_Hw-yjvHxX_Pd4sljyzdbHpKzRtsQ9xp4fkajSO2iKUde28HGcfs4lr_RzPDUfUCW1nHL',\n",
       "     'width': 3463}],\n",
       "   'place_id': 'ChIJhXWLZg9u5kcRDVyqoZYgcmg',\n",
       "   'plus_code': {'compound_code': 'V986+G7 Paris, France',\n",
       "    'global_code': '8FW4V986+G7'},\n",
       "   'rating': 4.3,\n",
       "   'reference': 'ChIJhXWLZg9u5kcRDVyqoZYgcmg',\n",
       "   'scope': 'GOOGLE',\n",
       "   'types': ['lodging', 'point_of_interest', 'establishment'],\n",
       "   'user_ratings_total': 379,\n",
       "   'vicinity': '72 Rue de Turbigo, Paris'},\n",
       "  {'business_status': 'OPERATIONAL',\n",
       "   'geometry': {'location': {'lat': 48.86386539999999, 'lng': 2.3325488},\n",
       "    'viewport': {'northeast': {'lat': 48.8650759802915,\n",
       "      'lng': 2.333775730291502},\n",
       "     'southwest': {'lat': 48.8623780197085, 'lng': 2.331077769708498}}},\n",
       "   'icon': 'https://maps.gstatic.com/mapfiles/place_api/icons/v1/png_71/lodging-71.png',\n",
       "   'name': 'Hotel Regina Louvre',\n",
       "   'opening_hours': {'open_now': True},\n",
       "   'photos': [{'height': 3700,\n",
       "     'html_attributions': ['<a href=\"https://maps.google.com/maps/contrib/109908333790946649027\">Hôtel Regina Louvre</a>'],\n",
       "     'photo_reference': 'Aap_uEAJYjFefyWppiHk-mqKKAc2NA-GlNd-IaBgIG4d9RcbB8zhgMIr485LdtZTiye6Vw4hjp6pDd3bXGoCcNNgqSAt58HJb3HN0lyCzh9E_2aaID3ZXRuX_7SsZMYKD-SbtH6ttQgiL7KnovYrMezebzcK3Pvmx1wWUMx3UVd6f8MeZT_3',\n",
       "     'width': 5550}],\n",
       "   'place_id': 'ChIJP_-HCS9u5kcRsj9b1x7Pl8w',\n",
       "   'plus_code': {'compound_code': 'V87M+G2 Paris, France',\n",
       "    'global_code': '8FW4V87M+G2'},\n",
       "   'rating': 4.5,\n",
       "   'reference': 'ChIJP_-HCS9u5kcRsj9b1x7Pl8w',\n",
       "   'scope': 'GOOGLE',\n",
       "   'types': ['lodging',\n",
       "    'bar',\n",
       "    'restaurant',\n",
       "    'food',\n",
       "    'point_of_interest',\n",
       "    'establishment'],\n",
       "   'user_ratings_total': 500,\n",
       "   'vicinity': '2 Place des Pyramides, Paris'},\n",
       "  {'business_status': 'OPERATIONAL',\n",
       "   'geometry': {'location': {'lat': 48.84795229999999, 'lng': 2.370869},\n",
       "    'viewport': {'northeast': {'lat': 48.8492035302915,\n",
       "      'lng': 2.372290080291501},\n",
       "     'southwest': {'lat': 48.8465055697085, 'lng': 2.369592119708498}}},\n",
       "   'icon': 'https://maps.gstatic.com/mapfiles/place_api/icons/v1/png_71/lodging-71.png',\n",
       "   'name': 'ibis Paris Gare de Lyon Ledru Rollin 12ème',\n",
       "   'opening_hours': {'open_now': True},\n",
       "   'photos': [{'height': 3000,\n",
       "     'html_attributions': ['<a href=\"https://maps.google.com/maps/contrib/110161480967920528437\">stefan kebbekus</a>'],\n",
       "     'photo_reference': 'Aap_uECalZrzku25lk-GGr66tjQHoqJBnG-oaaHQwP-YWYavbtUY1az_ImoBeYIW41OD-UPBDHiVILdFfYfpPM6JOQJN3Uu6dmphN8ekBS5TakYjxidCKkoRD8GuxhP-hQMbWdlziTvECaH_gwpI4LbLfjbwOiKZiPitiJz0psdNQMOVA4CB',\n",
       "     'width': 4000}],\n",
       "   'place_id': 'ChIJ9RNxcQNy5kcRnZJ4vsuXcow',\n",
       "   'plus_code': {'compound_code': 'R9XC+58 Paris, France',\n",
       "    'global_code': '8FW4R9XC+58'},\n",
       "   'rating': 4,\n",
       "   'reference': 'ChIJ9RNxcQNy5kcRnZJ4vsuXcow',\n",
       "   'scope': 'GOOGLE',\n",
       "   'types': ['lodging', 'point_of_interest', 'establishment'],\n",
       "   'user_ratings_total': 779,\n",
       "   'vicinity': '41/43 Avenue Ledru Rollin, Paris'},\n",
       "  {'business_status': 'CLOSED_TEMPORARILY',\n",
       "   'geometry': {'location': {'lat': 48.8710647, 'lng': 2.34991},\n",
       "    'viewport': {'northeast': {'lat': 48.87241888029151,\n",
       "      'lng': 2.351188530291502},\n",
       "     'southwest': {'lat': 48.86972091970851, 'lng': 2.348490569708498}}},\n",
       "   'icon': 'https://maps.gstatic.com/mapfiles/place_api/icons/v1/png_71/lodging-71.png',\n",
       "   'name': 'Hôtel des Comédies Paris',\n",
       "   'permanently_closed': True,\n",
       "   'photos': [{'height': 4000,\n",
       "     'html_attributions': ['<a href=\"https://maps.google.com/maps/contrib/114696623290303183213\">Noble</a>'],\n",
       "     'photo_reference': 'Aap_uEA08IObu-X9rX8ekAh82hoDBb2NeAcgNGhsljnQYki7DmoD-_hBPThuYbfYGnOq9AkaamPQIMsiF1xXdACDzik_UyMAoh9_mZahHDpZ-e53nWsaYLrWZiDq865nkqLthGelyR1E5SkQg6ZvwwXcm-XzdesZRS9ovpoHKS4iBN4eC6XZ',\n",
       "     'width': 3000}],\n",
       "   'place_id': 'ChIJn6ginxZu5kcRmAEK0OHm0cI',\n",
       "   'plus_code': {'compound_code': 'V8CX+CX Paris, France',\n",
       "    'global_code': '8FW4V8CX+CX'},\n",
       "   'rating': 4.2,\n",
       "   'reference': 'ChIJn6ginxZu5kcRmAEK0OHm0cI',\n",
       "   'scope': 'GOOGLE',\n",
       "   'types': ['lodging', 'point_of_interest', 'establishment'],\n",
       "   'user_ratings_total': 194,\n",
       "   'vicinity': \"8 Rue d'Hauteville, Paris\"},\n",
       "  {'business_status': 'OPERATIONAL',\n",
       "   'geometry': {'location': {'lat': 48.84754640000001, 'lng': 2.3718722},\n",
       "    'viewport': {'northeast': {'lat': 48.8488750302915,\n",
       "      'lng': 2.373125480291502},\n",
       "     'southwest': {'lat': 48.8461770697085, 'lng': 2.370427519708498}}},\n",
       "   'icon': 'https://maps.gstatic.com/mapfiles/place_api/icons/v1/png_71/lodging-71.png',\n",
       "   'name': 'Hôtel De France Gare de Lyon Bastille',\n",
       "   'photos': [{'height': 787,\n",
       "     'html_attributions': ['<a href=\"https://maps.google.com/maps/contrib/117462031751048846575\">Hôtel De France Gare de Lyon Bastille</a>'],\n",
       "     'photo_reference': 'Aap_uEAhKpgIyzYBCyWBsI6Js61Io5MIIFKP1MPsA2K4VHhjyzybGERGsx3SUEO4Sz6mdV6vw7tYwXZ1aUUMlSBPslzFYoJ6LbBbX6s-i2jdka46DKNqnIhxh4Pnkl-PgeM0lzJXzz3I_JeyFypZ6UzLp7JDNNZuCLgE3Z_2PI_ui0Dz9C9c',\n",
       "     'width': 1181}],\n",
       "   'place_id': 'ChIJz6DBYgNy5kcRhOu1LhDIECM',\n",
       "   'plus_code': {'compound_code': 'R9XC+2P Paris, France',\n",
       "    'global_code': '8FW4R9XC+2P'},\n",
       "   'rating': 3.3,\n",
       "   'reference': 'ChIJz6DBYgNy5kcRhOu1LhDIECM',\n",
       "   'scope': 'GOOGLE',\n",
       "   'types': ['lodging', 'point_of_interest', 'establishment'],\n",
       "   'user_ratings_total': 380,\n",
       "   'vicinity': '12 Rue de Lyon, Paris'},\n",
       "  {'business_status': 'OPERATIONAL',\n",
       "   'geometry': {'location': {'lat': 48.8717386, 'lng': 2.3447052},\n",
       "    'viewport': {'northeast': {'lat': 48.8731394302915,\n",
       "      'lng': 2.346067130291502},\n",
       "     'southwest': {'lat': 48.8704414697085, 'lng': 2.343369169708498}}},\n",
       "   'icon': 'https://maps.gstatic.com/mapfiles/place_api/icons/v1/png_71/lodging-71.png',\n",
       "   'name': 'Hôtel Prélude Opéra Paris',\n",
       "   'opening_hours': {'open_now': True},\n",
       "   'photos': [{'height': 2448,\n",
       "     'html_attributions': ['<a href=\"https://maps.google.com/maps/contrib/106224131803115407650\">Marcin Marczak</a>'],\n",
       "     'photo_reference': 'Aap_uEDp3HaCsCPOioez4b5W72YyJmYs3cZlyzDaEo4DUCEW-guPLG4zyRdpou8ukV-6GsN3RO84UpvagLG3y6iisSClcLyoTcsdLTpur1_CiWak0niF1j6WbMqkWne-4QfOnbutHYbybTuHY-leA5U80yo2cm-lJLibx2wbhcjlTLyz7kKT',\n",
       "     'width': 3264}],\n",
       "   'place_id': 'ChIJ8e3Qcj5u5kcR2MIGwNxustk',\n",
       "   'plus_code': {'compound_code': 'V8CV+MV Paris, France',\n",
       "    'global_code': '8FW4V8CV+MV'},\n",
       "   'rating': 4.1,\n",
       "   'reference': 'ChIJ8e3Qcj5u5kcR2MIGwNxustk',\n",
       "   'scope': 'GOOGLE',\n",
       "   'types': ['lodging', 'point_of_interest', 'establishment'],\n",
       "   'user_ratings_total': 352,\n",
       "   'vicinity': '8 Cité Bergère, Paris'},\n",
       "  {'business_status': 'OPERATIONAL',\n",
       "   'geometry': {'location': {'lat': 48.8423491, 'lng': 2.3632246},\n",
       "    'viewport': {'northeast': {'lat': 48.84365908029149,\n",
       "      'lng': 2.364711430291502},\n",
       "     'southwest': {'lat': 48.8409611197085, 'lng': 2.362013469708498}}},\n",
       "   'icon': 'https://maps.gstatic.com/mapfiles/place_api/icons/v1/png_71/lodging-71.png',\n",
       "   'name': 'Hôtel Libertel Austerlitz Jardin des Plantes',\n",
       "   'opening_hours': {'open_now': True},\n",
       "   'photos': [{'height': 4480,\n",
       "     'html_attributions': ['<a href=\"https://maps.google.com/maps/contrib/114802271282641766772\">Hôtel Libertel Austerlitz Jardin des Plantes</a>'],\n",
       "     'photo_reference': 'Aap_uEDtc4GgGjZGuTnvtFYGKLbsOJ1jgSx695KFYiAxDG3NiiG-sYmpa-QbLirdwo-8KQwdZUaRto95P730ix_z2GlD8aWmWFGwlrfCmC09hsUtclwrTEMYKt13WPPnLPhTc0SPSHu8utp_G4t1IxLpqfC1f6UK3cA-iPHAlU1nI0CI7Mmx',\n",
       "     'width': 6720}],\n",
       "   'place_id': 'ChIJe-udXPZx5kcRKURHNFv5BSw',\n",
       "   'plus_code': {'compound_code': 'R9R7+W7 Paris, France',\n",
       "    'global_code': '8FW4R9R7+W7'},\n",
       "   'rating': 4,\n",
       "   'reference': 'ChIJe-udXPZx5kcRKURHNFv5BSw',\n",
       "   'scope': 'GOOGLE',\n",
       "   'types': ['lodging', 'point_of_interest', 'establishment'],\n",
       "   'user_ratings_total': 433,\n",
       "   'vicinity': \"12 Boulevard de l'Hôpital, Paris\"},\n",
       "  {'business_status': 'OPERATIONAL',\n",
       "   'geometry': {'location': {'lat': 48.864294, 'lng': 2.3307997},\n",
       "    'viewport': {'northeast': {'lat': 48.8655772302915,\n",
       "      'lng': 2.332153880291502},\n",
       "     'southwest': {'lat': 48.8628792697085, 'lng': 2.329455919708498}}},\n",
       "   'icon': 'https://maps.gstatic.com/mapfiles/place_api/icons/v1/png_71/lodging-71.png',\n",
       "   'name': 'Saint James Albany Paris Hôtel Spa',\n",
       "   'opening_hours': {'open_now': True},\n",
       "   'photos': [{'height': 400,\n",
       "     'html_attributions': ['<a href=\"https://maps.google.com/maps/contrib/108570400659068256718\">Saint James Albany Paris Hôtel Spa</a>'],\n",
       "     'photo_reference': 'Aap_uEAmYzLNijd5Ah7AVsYDpSqu76wlRcFTCZ57B4446PJ2d2s1oxn12puOn3mrW911eqYTvNcfdYXvQd5ve9SU5H4hYm5Oe5twAqYovgCsJ5TWBuSK8sbWEHJmN-6kNbPA-PTmlW4GZyntqMNt8tCJyKgqhcGxuiV0ASXvzRlMxtcTQ45r',\n",
       "     'width': 600}],\n",
       "   'place_id': 'ChIJ8znTVS5u5kcREq8TmzOICFs',\n",
       "   'plus_code': {'compound_code': 'V87J+P8 Paris, France',\n",
       "    'global_code': '8FW4V87J+P8'},\n",
       "   'rating': 4,\n",
       "   'reference': 'ChIJ8znTVS5u5kcREq8TmzOICFs',\n",
       "   'scope': 'GOOGLE',\n",
       "   'types': ['lodging',\n",
       "    'bar',\n",
       "    'restaurant',\n",
       "    'food',\n",
       "    'point_of_interest',\n",
       "    'establishment'],\n",
       "   'user_ratings_total': 1073,\n",
       "   'vicinity': '202 Rue de Rivoli, Paris'},\n",
       "  {'business_status': 'OPERATIONAL',\n",
       "   'geometry': {'location': {'lat': 48.87110329999999, 'lng': 2.3389728},\n",
       "    'viewport': {'northeast': {'lat': 48.8724588802915,\n",
       "      'lng': 2.340112930291502},\n",
       "     'southwest': {'lat': 48.8697609197085, 'lng': 2.337414969708499}}},\n",
       "   'icon': 'https://maps.gstatic.com/mapfiles/place_api/icons/v1/png_71/lodging-71.png',\n",
       "   'name': 'Hôtel Icône',\n",
       "   'opening_hours': {'open_now': True},\n",
       "   'photos': [{'height': 1066,\n",
       "     'html_attributions': ['<a href=\"https://maps.google.com/maps/contrib/108137830440312077288\">Hôtel Icône</a>'],\n",
       "     'photo_reference': 'Aap_uEAXKWlrTqFtXTQvrq9RaHnwt-yyn4xvudXdoQveo63eka96THw70XFQkrjfR_hvRECbqVsi_poNaH-1Ouz_tThLZwxOjxevh-qtwIC36RdUfqf-jBLH0lKjo8XE4Xed1dKwSndVA1m9T_vFE7Ujg1q41-Oz91Wr5knHAzbYuzEEqAdD',\n",
       "     'width': 1600}],\n",
       "   'place_id': 'ChIJpQvq5Dtu5kcR0COam2f7v_I',\n",
       "   'plus_code': {'compound_code': 'V8CQ+CH Paris, France',\n",
       "    'global_code': '8FW4V8CQ+CH'},\n",
       "   'rating': 3.8,\n",
       "   'reference': 'ChIJpQvq5Dtu5kcR0COam2f7v_I',\n",
       "   'scope': 'GOOGLE',\n",
       "   'types': ['lodging', 'point_of_interest', 'establishment'],\n",
       "   'user_ratings_total': 138,\n",
       "   'vicinity': \"4 Rue d'Amboise, Paris\"},\n",
       "  {'business_status': 'OPERATIONAL',\n",
       "   'geometry': {'location': {'lat': 48.8524547, 'lng': 2.3472064},\n",
       "    'viewport': {'northeast': {'lat': 48.8538838802915,\n",
       "      'lng': 2.348601530291502},\n",
       "     'southwest': {'lat': 48.8511859197085, 'lng': 2.345903569708498}}},\n",
       "   'icon': 'https://maps.gstatic.com/mapfiles/place_api/icons/v1/png_71/lodging-71.png',\n",
       "   'name': 'Hôtel Esmeralda',\n",
       "   'opening_hours': {'open_now': True},\n",
       "   'photos': [{'height': 1960,\n",
       "     'html_attributions': ['<a href=\"https://maps.google.com/maps/contrib/106443224837840180239\">Fraz A. Khan</a>'],\n",
       "     'photo_reference': 'Aap_uEB68frn_Lc6e25MQmJtdMESUO33CqziUMGddBNY82ittxZnKVGmlAlw-tYvYKf89xlk71QZKWofuXf3CNDFlVwSFr3GLq2h6nJIlmLe0e8kGKwQvWDPafXp128QltVf5hobiWL74e-bDqbMOK1c_YTe-rUlsqC5UmMNUydUPxhkoxlS',\n",
       "     'width': 4032}],\n",
       "   'place_id': 'ChIJO_g_H-Fx5kcRmaabUHA3dT4',\n",
       "   'plus_code': {'compound_code': 'V82W+XV Paris, France',\n",
       "    'global_code': '8FW4V82W+XV'},\n",
       "   'rating': 4.1,\n",
       "   'reference': 'ChIJO_g_H-Fx5kcRmaabUHA3dT4',\n",
       "   'scope': 'GOOGLE',\n",
       "   'types': ['lodging', 'point_of_interest', 'establishment'],\n",
       "   'user_ratings_total': 143,\n",
       "   'vicinity': '4 Rue Saint-Julien le Pauvre, Paris'},\n",
       "  {'business_status': 'OPERATIONAL',\n",
       "   'geometry': {'location': {'lat': 48.8530901, 'lng': 2.3447174},\n",
       "    'viewport': {'northeast': {'lat': 48.8544403302915,\n",
       "      'lng': 2.346001280291502},\n",
       "     'southwest': {'lat': 48.8517423697085, 'lng': 2.343303319708498}}},\n",
       "   'icon': 'https://maps.gstatic.com/mapfiles/place_api/icons/v1/png_71/lodging-71.png',\n",
       "   'name': 'Albe Hotel',\n",
       "   'opening_hours': {'open_now': True},\n",
       "   'photos': [{'height': 1152,\n",
       "     'html_attributions': ['<a href=\"https://maps.google.com/maps/contrib/117571951379278191466\">Albe Hotel Saint Michel</a>'],\n",
       "     'photo_reference': 'Aap_uECj8wv_EWr8CLubj8-d5jG7spHsyX5tNMbq5xJUKaG9SnH4MWHJbAiRx6AIjQnXxfqth_yQdmQ5ajpY6kAA6NI2brhor-Mtx_NvVqQ_-8-ZnldN4ipp3QvniFc62gF-Zi1rCZc5vKgoEPLXXYChjrUukpnrUrQxOKyt07ouNO4xf2Ha',\n",
       "     'width': 1600}],\n",
       "   'place_id': 'ChIJ8R5-hOBx5kcRsCOdfj8GLeY',\n",
       "   'plus_code': {'compound_code': 'V83V+6V Paris, France',\n",
       "    'global_code': '8FW4V83V+6V'},\n",
       "   'rating': 4.4,\n",
       "   'reference': 'ChIJ8R5-hOBx5kcRsCOdfj8GLeY',\n",
       "   'scope': 'GOOGLE',\n",
       "   'types': ['lodging', 'point_of_interest', 'establishment'],\n",
       "   'user_ratings_total': 323,\n",
       "   'vicinity': '1 Rue de la Harpe, Paris'},\n",
       "  {'business_status': 'OPERATIONAL',\n",
       "   'geometry': {'location': {'lat': 48.8499394, 'lng': 2.3462397},\n",
       "    'viewport': {'northeast': {'lat': 48.8512682802915,\n",
       "      'lng': 2.347501880291502},\n",
       "     'southwest': {'lat': 48.8485703197085, 'lng': 2.344803919708498}}},\n",
       "   'icon': 'https://maps.gstatic.com/mapfiles/place_api/icons/v1/png_71/lodging-71.png',\n",
       "   'name': 'Home Latin',\n",
       "   'photos': [{'height': 606,\n",
       "     'html_attributions': ['<a href=\"https://maps.google.com/maps/contrib/105830788751825835396\">Peter Sheehan</a>'],\n",
       "     'photo_reference': 'Aap_uEA7dmG7Kw70n4BcAKdHu8sFbrlspS8h0sLwgVdartOrQY2rmnyHNeo0bb70SDQE2lK4AhS_-2TK5iUXKHguUHKyGUNQ2I3aLWVHte-oVc3mTtII7owQ6XBVuyl7bvGO8AMLgCsAeQo7zmPTqP8qEnoIFzZyn-3pIMPlZ6uLrCcB-Of3',\n",
       "     'width': 1080}],\n",
       "   'place_id': 'ChIJMWNDIudx5kcRupjNdNDYKkw',\n",
       "   'plus_code': {'compound_code': 'R8XW+XF Paris, France',\n",
       "    'global_code': '8FW4R8XW+XF'},\n",
       "   'rating': 3.6,\n",
       "   'reference': 'ChIJMWNDIudx5kcRupjNdNDYKkw',\n",
       "   'scope': 'GOOGLE',\n",
       "   'types': ['lodging', 'point_of_interest', 'establishment'],\n",
       "   'user_ratings_total': 265,\n",
       "   'vicinity': '15-17 Rue du Sommerard, Paris'},\n",
       "  {'business_status': 'OPERATIONAL',\n",
       "   'geometry': {'location': {'lat': 48.85473870000001, 'lng': 2.3395455},\n",
       "    'viewport': {'northeast': {'lat': 48.8561127802915,\n",
       "      'lng': 2.340820530291502},\n",
       "     'southwest': {'lat': 48.8534148197085, 'lng': 2.338122569708498}}},\n",
       "   'icon': 'https://maps.gstatic.com/mapfiles/place_api/icons/v1/png_71/lodging-71.png',\n",
       "   'name': \"Hôtel d'Aubusson\",\n",
       "   'opening_hours': {'open_now': True},\n",
       "   'photos': [{'height': 2174,\n",
       "     'html_attributions': ['<a href=\"https://maps.google.com/maps/contrib/115702439863948549296\">Hôtel d&#39;Aubusson Paris</a>'],\n",
       "     'photo_reference': 'Aap_uEDhYwt-ZLfp27K8k03dwSRNS9Yhp8cIRevJn7pww5f9Gg1O3s6RjNPc3Bxtb2R8nc4_yLkC9a-r0oET1Xif4ylpBCqUKwYIzc81HWcIj1ykjB9UofMthj1GJ4fpt0D3_WbTdM5ZDtyNGiVXB0kkW43pg1fUYhRaeH-73lqkIZxVJfdc',\n",
       "     'width': 1739}],\n",
       "   'place_id': 'ChIJk6ztMN9x5kcREpQ8edWOs7E',\n",
       "   'plus_code': {'compound_code': 'V83Q+VR Paris, France',\n",
       "    'global_code': '8FW4V83Q+VR'},\n",
       "   'rating': 4.7,\n",
       "   'reference': 'ChIJk6ztMN9x5kcREpQ8edWOs7E',\n",
       "   'scope': 'GOOGLE',\n",
       "   'types': ['lodging', 'point_of_interest', 'establishment'],\n",
       "   'user_ratings_total': 278,\n",
       "   'vicinity': '33 Rue Dauphine, Paris'},\n",
       "  {'business_status': 'OPERATIONAL',\n",
       "   'geometry': {'location': {'lat': 48.85184049999999, 'lng': 2.3448082},\n",
       "    'viewport': {'northeast': {'lat': 48.85313113029149,\n",
       "      'lng': 2.346144730291502},\n",
       "     'southwest': {'lat': 48.8504331697085, 'lng': 2.343446769708498}}},\n",
       "   'icon': 'https://maps.gstatic.com/mapfiles/place_api/icons/v1/png_71/lodging-71.png',\n",
       "   'name': 'Hôtel 4 étoiles Parc Saint Séverin Paris 5ème - Esprit de France',\n",
       "   'opening_hours': {'open_now': True},\n",
       "   'photos': [{'height': 2362,\n",
       "     'html_attributions': ['<a href=\"https://maps.google.com/maps/contrib/107542132357877294567\">Hôtel 4 étoiles Parc Saint Séverin Paris 5ème - Esprit de France</a>'],\n",
       "     'photo_reference': 'Aap_uEDTCZPnDeMFIeYuxdNIRwVyyaiyWDk514JmjA3UZz-sfJnp8SAKoFdo1UBmwnbL682E8RLRzgc-d-ThlHh_EGdhYSWiyybz0dyeJPLIEWYz2WNT1ySlabLK2cARZ0ryFAXgA5rqq8y25yXavOD1JUi-PpXSldckBf7kMHyosBWD-UrZ',\n",
       "     'width': 3776}],\n",
       "   'place_id': 'ChIJ9--kuuBx5kcRojwQ1yEK2cY',\n",
       "   'plus_code': {'compound_code': 'V82V+PW Paris, France',\n",
       "    'global_code': '8FW4V82V+PW'},\n",
       "   'rating': 4.6,\n",
       "   'reference': 'ChIJ9--kuuBx5kcRojwQ1yEK2cY',\n",
       "   'scope': 'GOOGLE',\n",
       "   'types': ['lodging', 'point_of_interest', 'establishment'],\n",
       "   'user_ratings_total': 139,\n",
       "   'vicinity': '22 Rue de la Parcheminerie, Paris'}],\n",
       " 'status': 'OK'}"
      ]
     },
     "metadata": {},
     "execution_count": 25
    }
   ],
   "source": [
    "# Set the parameters to search for a hotel in Paris.\n",
    "params = {\n",
    "    \"radius\": 5000,\n",
    "    \"types\": \"lodging\",\n",
    "    \"key\": g_key,\n",
    "    \"location\": \"48.8566, 2.3522\"}\n",
    "# Use base URL to search for hotels in Paris.\n",
    "base_url = \"https://maps.googleapis.com/maps/api/place/nearbysearch/json\"\n",
    "# Make request and get the JSON data from the search.\n",
    "hotels = requests.get(base_url, params=params).json()\n",
    "\n",
    "hotels"
   ]
  },
  {
   "cell_type": "code",
   "execution_count": 82,
   "metadata": {},
   "outputs": [
    {
     "output_type": "stream",
     "name": "stdout",
     "text": [
      "Hotel not found... skipping.\n",
      "Hotel not found... skipping.\n",
      "Hotel not found... skipping.\n",
      "Hotel not found... skipping.\n",
      "Hotel not found... skipping.\n",
      "Hotel not found... skipping.\n",
      "Hotel not found... skipping.\n",
      "Hotel not found... skipping.\n",
      "Hotel not found... skipping.\n",
      "Hotel not found... skipping.\n",
      "Hotel not found... skipping.\n",
      "Hotel not found... skipping.\n",
      "Hotel not found... skipping.\n",
      "Hotel not found... skipping.\n",
      "Hotel not found... skipping.\n"
     ]
    }
   ],
   "source": [
    "# Iterate through the DataFrame.\n",
    "for index, row in hotel_df.iterrows():\n",
    "    # Get the latitude and longitude.\n",
    "    lat = row[\"Lat\"]\n",
    "    lng = row[\"Lng\"]\n",
    "\n",
    "    # Add the latitude and longitude to location key for the params dictionary.\n",
    "    params[\"location\"] = f\"{lat},{lng}\"\n",
    "\n",
    "    # Use the search term: \"lodging\" and our latitude and longitude.\n",
    "    base_url = \"https://maps.googleapis.com/maps/api/place/nearbysearch/json\"\n",
    "    # Make request and get the JSON data from the search.\n",
    "    hotels = requests.get(base_url, params=params).json()\n",
    "    # Grab the first hotel from the results and store the name.\n",
    "    try:\n",
    "        hotel_df.loc[index, \"Hotel Name\"] = hotels[\"results\"][0][\"name\"]\n",
    "    except (IndexError):\n",
    "        print(\"Hotel not found... skipping.\")"
   ]
  },
  {
   "cell_type": "code",
   "execution_count": 83,
   "metadata": {},
   "outputs": [
    {
     "output_type": "execute_result",
     "data": {
      "text/plain": [
       "               City Country  Max Temp      Lat       Lng  \\\n",
       "5   Lazaro Cardenas      MX     85.08  17.9583 -102.2000   \n",
       "10           Touros      BR     79.70  -5.1989  -35.4608   \n",
       "15       Butaritari      KI     82.83   3.0707  172.7902   \n",
       "16        Jamestown      US     78.30  42.0970  -79.2353   \n",
       "23       Georgetown      MY     80.53   5.4112  100.3354   \n",
       "\n",
       "                        Hotel Name  \n",
       "5                   quinta antigua  \n",
       "10                 INN NEW HORIZON  \n",
       "15              Isles Sunset Lodge  \n",
       "16  Hampton Inn & Suites Jamestown  \n",
       "23                  Cititel Penang  "
      ],
      "text/html": "<div>\n<style scoped>\n    .dataframe tbody tr th:only-of-type {\n        vertical-align: middle;\n    }\n\n    .dataframe tbody tr th {\n        vertical-align: top;\n    }\n\n    .dataframe thead th {\n        text-align: right;\n    }\n</style>\n<table border=\"1\" class=\"dataframe\">\n  <thead>\n    <tr style=\"text-align: right;\">\n      <th></th>\n      <th>City</th>\n      <th>Country</th>\n      <th>Max Temp</th>\n      <th>Lat</th>\n      <th>Lng</th>\n      <th>Hotel Name</th>\n    </tr>\n  </thead>\n  <tbody>\n    <tr>\n      <th>5</th>\n      <td>Lazaro Cardenas</td>\n      <td>MX</td>\n      <td>85.08</td>\n      <td>17.9583</td>\n      <td>-102.2000</td>\n      <td>quinta antigua</td>\n    </tr>\n    <tr>\n      <th>10</th>\n      <td>Touros</td>\n      <td>BR</td>\n      <td>79.70</td>\n      <td>-5.1989</td>\n      <td>-35.4608</td>\n      <td>INN NEW HORIZON</td>\n    </tr>\n    <tr>\n      <th>15</th>\n      <td>Butaritari</td>\n      <td>KI</td>\n      <td>82.83</td>\n      <td>3.0707</td>\n      <td>172.7902</td>\n      <td>Isles Sunset Lodge</td>\n    </tr>\n    <tr>\n      <th>16</th>\n      <td>Jamestown</td>\n      <td>US</td>\n      <td>78.30</td>\n      <td>42.0970</td>\n      <td>-79.2353</td>\n      <td>Hampton Inn &amp; Suites Jamestown</td>\n    </tr>\n    <tr>\n      <th>23</th>\n      <td>Georgetown</td>\n      <td>MY</td>\n      <td>80.53</td>\n      <td>5.4112</td>\n      <td>100.3354</td>\n      <td>Cititel Penang</td>\n    </tr>\n  </tbody>\n</table>\n</div>"
     },
     "metadata": {},
     "execution_count": 83
    }
   ],
   "source": [
    "hotel_df.head()"
   ]
  },
  {
   "cell_type": "code",
   "execution_count": 84,
   "metadata": {},
   "outputs": [
    {
     "output_type": "display_data",
     "data": {
      "text/plain": "Figure(layout=FigureLayout(height='420px'))",
      "application/vnd.jupyter.widget-view+json": {
       "version_major": 2,
       "version_minor": 0,
       "model_id": "5751333d72e5461bbafa30315465cc7f"
      }
     },
     "metadata": {}
    }
   ],
   "source": [
    "# Add a heatmap of temperature for the vacation spots and marker for each city.\n",
    "locations = hotel_df[[\"Lat\", \"Lng\"]]\n",
    "max_temp = hotel_df[\"Max Temp\"]\n",
    "fig = gmaps.figure(center=(30.0, 31.0), zoom_level=1.5)\n",
    "heat_layer = gmaps.heatmap_layer(locations, weights=max_temp,\n",
    "             dissipating=False, max_intensity=300, point_radius=4)\n",
    "marker_layer = gmaps.marker_layer(locations)\n",
    "fig.add_layer(heat_layer)\n",
    "fig.add_layer(marker_layer)\n",
    "# Call the figure to plot the data.\n",
    "fig"
   ]
  },
  {
   "cell_type": "code",
   "execution_count": 88,
   "metadata": {},
   "outputs": [
    {
     "output_type": "display_data",
     "data": {
      "text/plain": "Figure(layout=FigureLayout(height='420px'))",
      "application/vnd.jupyter.widget-view+json": {
       "version_major": 2,
       "version_minor": 0,
       "model_id": "31daf1cd00af49c781f953c9c10c64ce"
      }
     },
     "metadata": {}
    }
   ],
   "source": [
    "info_box_template = \"\"\"\n",
    "<dl>\n",
    "<dt>Hotel Name</dt><dd>{Hotel Name}</dd>\n",
    "<dt>City</dt><dd>{City}</dd>\n",
    "<dt>Country</dt><dd>{Country}</dd>\n",
    "<dt>Max Temp</dt><dd>{Max Temp} °F</dd>\n",
    "</dl>\n",
    "\"\"\"\n",
    "# Store the DataFrame Row.\n",
    "hotel_info = [info_box_template.format(**row) for index, row in hotel_df.iterrows()]\n",
    "\n",
    "# Add a heatmap of temperature for the vacation spots and a pop-up marker for each city.\n",
    "locations = hotel_df[[\"Lat\", \"Lng\"]]\n",
    "max_temp = hotel_df[\"Max Temp\"]\n",
    "fig = gmaps.figure(center=(30.0, 31.0), zoom_level=1.5)\n",
    "heat_layer = gmaps.heatmap_layer(locations, weights=max_temp,dissipating=False,\n",
    "             max_intensity=300, point_radius=4)\n",
    "marker_layer = gmaps.marker_layer(locations, info_box_content=hotel_info)\n",
    "fig.add_layer(heat_layer)\n",
    "fig.add_layer(marker_layer)\n",
    "\n",
    "# Call the figure to plot the data.\n",
    "fig"
   ]
  },
  {
   "cell_type": "code",
   "execution_count": null,
   "metadata": {},
   "outputs": [],
   "source": []
  }
 ],
 "metadata": {
  "kernelspec": {
   "name": "python3",
   "display_name": "Python 3.8.10 64-bit ('PyData': conda)"
  },
  "language_info": {
   "codemirror_mode": {
    "name": "ipython",
    "version": 3
   },
   "file_extension": ".py",
   "mimetype": "text/x-python",
   "name": "python",
   "nbconvert_exporter": "python",
   "pygments_lexer": "ipython3",
   "version": "3.8.10"
  },
  "interpreter": {
   "hash": "abe290642d551b78aa3d918a6b1e3a25aa3295161d70f949d9308b831a06f1c3"
  }
 },
 "nbformat": 4,
 "nbformat_minor": 5
}