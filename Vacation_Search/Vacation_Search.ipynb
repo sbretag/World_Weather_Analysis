{
 "cells": [
  {
   "cell_type": "markdown",
   "metadata": {},
   "source": [
    "## Deliverable 2. Create a Customer Travel Destinations Map."
   ]
  },
  {
   "cell_type": "code",
   "execution_count": 13,
   "metadata": {},
   "outputs": [],
   "source": [
    "# Dependencies and Setup\n",
    "import pandas as pd\n",
    "import requests\n",
    "import gmaps\n",
    "\n",
    "# Import API key\n",
    "from vacation_search_config import g_key\n",
    "\n",
    "# Configure gmaps API key\n",
    "gmaps.configure(api_key=g_key)"
   ]
  },
  {
   "cell_type": "code",
   "execution_count": 14,
   "metadata": {},
   "outputs": [
    {
     "output_type": "execute_result",
     "data": {
      "text/plain": [
       "   City_ID            City Country      Lat       Lng  Max Temp  Humidity  \\\n",
       "0        0         Rikitea      PF -23.1203 -134.9692     70.09        67   \n",
       "1        1  Saint-Augustin      CA  51.2260  -58.6502     62.31        66   \n",
       "2        2         Samarai      PG -10.6167  150.6667     80.67        72   \n",
       "3        3            Hilo      US  19.7297 -155.0900     73.26        94   \n",
       "4        4       Jamestown      US  42.0970  -79.2353     65.01        94   \n",
       "\n",
       "   Cloudiness  Wind Speed Current Description  \n",
       "0         100       26.28     overcast clouds  \n",
       "1          21        2.35          few clouds  \n",
       "2          77       14.34       broken clouds  \n",
       "3          94        5.75          light rain  \n",
       "4           1        1.99           clear sky  "
      ],
      "text/html": "<div>\n<style scoped>\n    .dataframe tbody tr th:only-of-type {\n        vertical-align: middle;\n    }\n\n    .dataframe tbody tr th {\n        vertical-align: top;\n    }\n\n    .dataframe thead th {\n        text-align: right;\n    }\n</style>\n<table border=\"1\" class=\"dataframe\">\n  <thead>\n    <tr style=\"text-align: right;\">\n      <th></th>\n      <th>City_ID</th>\n      <th>City</th>\n      <th>Country</th>\n      <th>Lat</th>\n      <th>Lng</th>\n      <th>Max Temp</th>\n      <th>Humidity</th>\n      <th>Cloudiness</th>\n      <th>Wind Speed</th>\n      <th>Current Description</th>\n    </tr>\n  </thead>\n  <tbody>\n    <tr>\n      <th>0</th>\n      <td>0</td>\n      <td>Rikitea</td>\n      <td>PF</td>\n      <td>-23.1203</td>\n      <td>-134.9692</td>\n      <td>70.09</td>\n      <td>67</td>\n      <td>100</td>\n      <td>26.28</td>\n      <td>overcast clouds</td>\n    </tr>\n    <tr>\n      <th>1</th>\n      <td>1</td>\n      <td>Saint-Augustin</td>\n      <td>CA</td>\n      <td>51.2260</td>\n      <td>-58.6502</td>\n      <td>62.31</td>\n      <td>66</td>\n      <td>21</td>\n      <td>2.35</td>\n      <td>few clouds</td>\n    </tr>\n    <tr>\n      <th>2</th>\n      <td>2</td>\n      <td>Samarai</td>\n      <td>PG</td>\n      <td>-10.6167</td>\n      <td>150.6667</td>\n      <td>80.67</td>\n      <td>72</td>\n      <td>77</td>\n      <td>14.34</td>\n      <td>broken clouds</td>\n    </tr>\n    <tr>\n      <th>3</th>\n      <td>3</td>\n      <td>Hilo</td>\n      <td>US</td>\n      <td>19.7297</td>\n      <td>-155.0900</td>\n      <td>73.26</td>\n      <td>94</td>\n      <td>94</td>\n      <td>5.75</td>\n      <td>light rain</td>\n    </tr>\n    <tr>\n      <th>4</th>\n      <td>4</td>\n      <td>Jamestown</td>\n      <td>US</td>\n      <td>42.0970</td>\n      <td>-79.2353</td>\n      <td>65.01</td>\n      <td>94</td>\n      <td>1</td>\n      <td>1.99</td>\n      <td>clear sky</td>\n    </tr>\n  </tbody>\n</table>\n</div>"
     },
     "metadata": {},
     "execution_count": 14
    }
   ],
   "source": [
    "# 1. Import the WeatherPy_database.csv file. \n",
    "city_data_df = pd.read_csv(\"../Weather_Database/WeatherPy_database.csv\")\n",
    "city_data_df.head()"
   ]
  },
  {
   "cell_type": "code",
   "execution_count": 15,
   "metadata": {},
   "outputs": [],
   "source": [
    "# 2. Prompt the user to enter minimum and maximum temperature criteria \n",
    "\n",
    "min_temp = float(input(\"What is the minimum temperature you would like for your trip? \"))\n",
    "max_temp = float(input(\"What is the maximum temperature you would like for your trip? \"))\n"
   ]
  },
  {
   "cell_type": "code",
   "execution_count": 16,
   "metadata": {},
   "outputs": [
    {
     "output_type": "execute_result",
     "data": {
      "text/plain": [
       "    City_ID          City Country      Lat       Lng  Max Temp  Humidity  \\\n",
       "2         2       Samarai      PG -10.6167  150.6667     80.67        72   \n",
       "6         6         Kapaa      US  22.0752 -159.3190     80.92        78   \n",
       "7         7     Hithadhoo      MV  -0.6000   73.0833     81.82        68   \n",
       "19       19        Sahbuz      AZ  39.4072   45.5739     80.20        35   \n",
       "20       20  San Patricio      US  28.0170  -97.5169     84.09        81   \n",
       "24       24        Namtsy      RU  62.7161  129.6658     82.51        32   \n",
       "30       30    Luganville      VU -15.5333  167.1667     81.36        74   \n",
       "34       34     Kavaratti      IN  10.5669   72.6420     82.38        79   \n",
       "40       40           Eyl      SO   7.9803   49.8164     80.40        62   \n",
       "43       43    Butaritari      KI   3.0707  172.7902     83.95        72   \n",
       "\n",
       "    Cloudiness  Wind Speed Current Description  \n",
       "2           77       14.34       broken clouds  \n",
       "6           90        5.01          light rain  \n",
       "7           57        0.81       broken clouds  \n",
       "19           6        3.62           clear sky  \n",
       "20           1        7.83           clear sky  \n",
       "24          29        7.70    scattered clouds  \n",
       "30          25        9.26    scattered clouds  \n",
       "34         100       17.92     overcast clouds  \n",
       "40          89       25.75     overcast clouds  \n",
       "43         100       10.96     overcast clouds  "
      ],
      "text/html": "<div>\n<style scoped>\n    .dataframe tbody tr th:only-of-type {\n        vertical-align: middle;\n    }\n\n    .dataframe tbody tr th {\n        vertical-align: top;\n    }\n\n    .dataframe thead th {\n        text-align: right;\n    }\n</style>\n<table border=\"1\" class=\"dataframe\">\n  <thead>\n    <tr style=\"text-align: right;\">\n      <th></th>\n      <th>City_ID</th>\n      <th>City</th>\n      <th>Country</th>\n      <th>Lat</th>\n      <th>Lng</th>\n      <th>Max Temp</th>\n      <th>Humidity</th>\n      <th>Cloudiness</th>\n      <th>Wind Speed</th>\n      <th>Current Description</th>\n    </tr>\n  </thead>\n  <tbody>\n    <tr>\n      <th>2</th>\n      <td>2</td>\n      <td>Samarai</td>\n      <td>PG</td>\n      <td>-10.6167</td>\n      <td>150.6667</td>\n      <td>80.67</td>\n      <td>72</td>\n      <td>77</td>\n      <td>14.34</td>\n      <td>broken clouds</td>\n    </tr>\n    <tr>\n      <th>6</th>\n      <td>6</td>\n      <td>Kapaa</td>\n      <td>US</td>\n      <td>22.0752</td>\n      <td>-159.3190</td>\n      <td>80.92</td>\n      <td>78</td>\n      <td>90</td>\n      <td>5.01</td>\n      <td>light rain</td>\n    </tr>\n    <tr>\n      <th>7</th>\n      <td>7</td>\n      <td>Hithadhoo</td>\n      <td>MV</td>\n      <td>-0.6000</td>\n      <td>73.0833</td>\n      <td>81.82</td>\n      <td>68</td>\n      <td>57</td>\n      <td>0.81</td>\n      <td>broken clouds</td>\n    </tr>\n    <tr>\n      <th>19</th>\n      <td>19</td>\n      <td>Sahbuz</td>\n      <td>AZ</td>\n      <td>39.4072</td>\n      <td>45.5739</td>\n      <td>80.20</td>\n      <td>35</td>\n      <td>6</td>\n      <td>3.62</td>\n      <td>clear sky</td>\n    </tr>\n    <tr>\n      <th>20</th>\n      <td>20</td>\n      <td>San Patricio</td>\n      <td>US</td>\n      <td>28.0170</td>\n      <td>-97.5169</td>\n      <td>84.09</td>\n      <td>81</td>\n      <td>1</td>\n      <td>7.83</td>\n      <td>clear sky</td>\n    </tr>\n    <tr>\n      <th>24</th>\n      <td>24</td>\n      <td>Namtsy</td>\n      <td>RU</td>\n      <td>62.7161</td>\n      <td>129.6658</td>\n      <td>82.51</td>\n      <td>32</td>\n      <td>29</td>\n      <td>7.70</td>\n      <td>scattered clouds</td>\n    </tr>\n    <tr>\n      <th>30</th>\n      <td>30</td>\n      <td>Luganville</td>\n      <td>VU</td>\n      <td>-15.5333</td>\n      <td>167.1667</td>\n      <td>81.36</td>\n      <td>74</td>\n      <td>25</td>\n      <td>9.26</td>\n      <td>scattered clouds</td>\n    </tr>\n    <tr>\n      <th>34</th>\n      <td>34</td>\n      <td>Kavaratti</td>\n      <td>IN</td>\n      <td>10.5669</td>\n      <td>72.6420</td>\n      <td>82.38</td>\n      <td>79</td>\n      <td>100</td>\n      <td>17.92</td>\n      <td>overcast clouds</td>\n    </tr>\n    <tr>\n      <th>40</th>\n      <td>40</td>\n      <td>Eyl</td>\n      <td>SO</td>\n      <td>7.9803</td>\n      <td>49.8164</td>\n      <td>80.40</td>\n      <td>62</td>\n      <td>89</td>\n      <td>25.75</td>\n      <td>overcast clouds</td>\n    </tr>\n    <tr>\n      <th>43</th>\n      <td>43</td>\n      <td>Butaritari</td>\n      <td>KI</td>\n      <td>3.0707</td>\n      <td>172.7902</td>\n      <td>83.95</td>\n      <td>72</td>\n      <td>100</td>\n      <td>10.96</td>\n      <td>overcast clouds</td>\n    </tr>\n  </tbody>\n</table>\n</div>"
     },
     "metadata": {},
     "execution_count": 16
    }
   ],
   "source": [
    "# 3. Filter the city_data_df DataFrame using the input statements to create a new DataFrame using the loc method.\n",
    "\n",
    "preferred_cities_df = city_data_df.loc[(city_data_df[\"Max Temp\"] <= max_temp) & \\\n",
    "                                       (city_data_df[\"Max Temp\"] >= min_temp)]\n",
    "preferred_cities_df.head(10)"
   ]
  },
  {
   "cell_type": "code",
   "execution_count": 17,
   "metadata": {},
   "outputs": [],
   "source": [
    "# 4b. Drop any empty rows and create a new DataFrame that doesn’t have empty rows.\n",
    "\n",
    "clean_df = preferred_cities_df.dropna()\n"
   ]
  },
  {
   "cell_type": "code",
   "execution_count": 18,
   "metadata": {},
   "outputs": [
    {
     "output_type": "execute_result",
     "data": {
      "text/plain": [
       "     City_ID            City Country      Lat       Lng  Max Temp  Humidity  \\\n",
       "2          2         Samarai      PG -10.6167  150.6667     80.67        72   \n",
       "6          6           Kapaa      US  22.0752 -159.3190     80.92        78   \n",
       "7          7       Hithadhoo      MV  -0.6000   73.0833     81.82        68   \n",
       "19        19          Sahbuz      AZ  39.4072   45.5739     80.20        35   \n",
       "20        20    San Patricio      US  28.0170  -97.5169     84.09        81   \n",
       "..       ...             ...     ...      ...       ...       ...       ...   \n",
       "698      698       Dhidhdhoo      MV   6.8833   73.1000     83.34        73   \n",
       "703      703            Bada      RU  51.3920  109.8717     81.45        49   \n",
       "705      705          Snyder      US  32.7179 -100.9176     80.94        65   \n",
       "713      713  Fereydun Kenar      IR  36.6864   52.5225     84.13        66   \n",
       "721      721            Auki      SB  -8.7676  160.7034     84.99        66   \n",
       "\n",
       "     Cloudiness  Wind Speed Current Description  \n",
       "2            77       14.34       broken clouds  \n",
       "6            90        5.01          light rain  \n",
       "7            57        0.81       broken clouds  \n",
       "19            6        3.62           clear sky  \n",
       "20            1        7.83           clear sky  \n",
       "..          ...         ...                 ...  \n",
       "698          96       11.10     overcast clouds  \n",
       "703          83        1.10          light rain  \n",
       "705           1        4.61           clear sky  \n",
       "713           4        0.96           clear sky  \n",
       "721         100        6.73     overcast clouds  \n",
       "\n",
       "[139 rows x 10 columns]"
      ],
      "text/html": "<div>\n<style scoped>\n    .dataframe tbody tr th:only-of-type {\n        vertical-align: middle;\n    }\n\n    .dataframe tbody tr th {\n        vertical-align: top;\n    }\n\n    .dataframe thead th {\n        text-align: right;\n    }\n</style>\n<table border=\"1\" class=\"dataframe\">\n  <thead>\n    <tr style=\"text-align: right;\">\n      <th></th>\n      <th>City_ID</th>\n      <th>City</th>\n      <th>Country</th>\n      <th>Lat</th>\n      <th>Lng</th>\n      <th>Max Temp</th>\n      <th>Humidity</th>\n      <th>Cloudiness</th>\n      <th>Wind Speed</th>\n      <th>Current Description</th>\n    </tr>\n  </thead>\n  <tbody>\n    <tr>\n      <th>2</th>\n      <td>2</td>\n      <td>Samarai</td>\n      <td>PG</td>\n      <td>-10.6167</td>\n      <td>150.6667</td>\n      <td>80.67</td>\n      <td>72</td>\n      <td>77</td>\n      <td>14.34</td>\n      <td>broken clouds</td>\n    </tr>\n    <tr>\n      <th>6</th>\n      <td>6</td>\n      <td>Kapaa</td>\n      <td>US</td>\n      <td>22.0752</td>\n      <td>-159.3190</td>\n      <td>80.92</td>\n      <td>78</td>\n      <td>90</td>\n      <td>5.01</td>\n      <td>light rain</td>\n    </tr>\n    <tr>\n      <th>7</th>\n      <td>7</td>\n      <td>Hithadhoo</td>\n      <td>MV</td>\n      <td>-0.6000</td>\n      <td>73.0833</td>\n      <td>81.82</td>\n      <td>68</td>\n      <td>57</td>\n      <td>0.81</td>\n      <td>broken clouds</td>\n    </tr>\n    <tr>\n      <th>19</th>\n      <td>19</td>\n      <td>Sahbuz</td>\n      <td>AZ</td>\n      <td>39.4072</td>\n      <td>45.5739</td>\n      <td>80.20</td>\n      <td>35</td>\n      <td>6</td>\n      <td>3.62</td>\n      <td>clear sky</td>\n    </tr>\n    <tr>\n      <th>20</th>\n      <td>20</td>\n      <td>San Patricio</td>\n      <td>US</td>\n      <td>28.0170</td>\n      <td>-97.5169</td>\n      <td>84.09</td>\n      <td>81</td>\n      <td>1</td>\n      <td>7.83</td>\n      <td>clear sky</td>\n    </tr>\n    <tr>\n      <th>...</th>\n      <td>...</td>\n      <td>...</td>\n      <td>...</td>\n      <td>...</td>\n      <td>...</td>\n      <td>...</td>\n      <td>...</td>\n      <td>...</td>\n      <td>...</td>\n      <td>...</td>\n    </tr>\n    <tr>\n      <th>698</th>\n      <td>698</td>\n      <td>Dhidhdhoo</td>\n      <td>MV</td>\n      <td>6.8833</td>\n      <td>73.1000</td>\n      <td>83.34</td>\n      <td>73</td>\n      <td>96</td>\n      <td>11.10</td>\n      <td>overcast clouds</td>\n    </tr>\n    <tr>\n      <th>703</th>\n      <td>703</td>\n      <td>Bada</td>\n      <td>RU</td>\n      <td>51.3920</td>\n      <td>109.8717</td>\n      <td>81.45</td>\n      <td>49</td>\n      <td>83</td>\n      <td>1.10</td>\n      <td>light rain</td>\n    </tr>\n    <tr>\n      <th>705</th>\n      <td>705</td>\n      <td>Snyder</td>\n      <td>US</td>\n      <td>32.7179</td>\n      <td>-100.9176</td>\n      <td>80.94</td>\n      <td>65</td>\n      <td>1</td>\n      <td>4.61</td>\n      <td>clear sky</td>\n    </tr>\n    <tr>\n      <th>713</th>\n      <td>713</td>\n      <td>Fereydun Kenar</td>\n      <td>IR</td>\n      <td>36.6864</td>\n      <td>52.5225</td>\n      <td>84.13</td>\n      <td>66</td>\n      <td>4</td>\n      <td>0.96</td>\n      <td>clear sky</td>\n    </tr>\n    <tr>\n      <th>721</th>\n      <td>721</td>\n      <td>Auki</td>\n      <td>SB</td>\n      <td>-8.7676</td>\n      <td>160.7034</td>\n      <td>84.99</td>\n      <td>66</td>\n      <td>100</td>\n      <td>6.73</td>\n      <td>overcast clouds</td>\n    </tr>\n  </tbody>\n</table>\n<p>139 rows × 10 columns</p>\n</div>"
     },
     "metadata": {},
     "execution_count": 18
    }
   ],
   "source": [
    "clean_df"
   ]
  },
  {
   "cell_type": "code",
   "execution_count": 19,
   "metadata": {},
   "outputs": [
    {
     "output_type": "execute_result",
     "data": {
      "text/plain": [
       "            City Country  Max Temp Current Description      Lat       Lng  \\\n",
       "2        Samarai      PG     80.67       broken clouds -10.6167  150.6667   \n",
       "6          Kapaa      US     80.92          light rain  22.0752 -159.3190   \n",
       "7      Hithadhoo      MV     81.82       broken clouds  -0.6000   73.0833   \n",
       "19        Sahbuz      AZ     80.20           clear sky  39.4072   45.5739   \n",
       "20  San Patricio      US     84.09           clear sky  28.0170  -97.5169   \n",
       "24        Namtsy      RU     82.51    scattered clouds  62.7161  129.6658   \n",
       "30    Luganville      VU     81.36    scattered clouds -15.5333  167.1667   \n",
       "34     Kavaratti      IN     82.38     overcast clouds  10.5669   72.6420   \n",
       "40           Eyl      SO     80.40     overcast clouds   7.9803   49.8164   \n",
       "43    Butaritari      KI     83.95     overcast clouds   3.0707  172.7902   \n",
       "\n",
       "   Hotel Name  \n",
       "2              \n",
       "6              \n",
       "7              \n",
       "19             \n",
       "20             \n",
       "24             \n",
       "30             \n",
       "34             \n",
       "40             \n",
       "43             "
      ],
      "text/html": "<div>\n<style scoped>\n    .dataframe tbody tr th:only-of-type {\n        vertical-align: middle;\n    }\n\n    .dataframe tbody tr th {\n        vertical-align: top;\n    }\n\n    .dataframe thead th {\n        text-align: right;\n    }\n</style>\n<table border=\"1\" class=\"dataframe\">\n  <thead>\n    <tr style=\"text-align: right;\">\n      <th></th>\n      <th>City</th>\n      <th>Country</th>\n      <th>Max Temp</th>\n      <th>Current Description</th>\n      <th>Lat</th>\n      <th>Lng</th>\n      <th>Hotel Name</th>\n    </tr>\n  </thead>\n  <tbody>\n    <tr>\n      <th>2</th>\n      <td>Samarai</td>\n      <td>PG</td>\n      <td>80.67</td>\n      <td>broken clouds</td>\n      <td>-10.6167</td>\n      <td>150.6667</td>\n      <td></td>\n    </tr>\n    <tr>\n      <th>6</th>\n      <td>Kapaa</td>\n      <td>US</td>\n      <td>80.92</td>\n      <td>light rain</td>\n      <td>22.0752</td>\n      <td>-159.3190</td>\n      <td></td>\n    </tr>\n    <tr>\n      <th>7</th>\n      <td>Hithadhoo</td>\n      <td>MV</td>\n      <td>81.82</td>\n      <td>broken clouds</td>\n      <td>-0.6000</td>\n      <td>73.0833</td>\n      <td></td>\n    </tr>\n    <tr>\n      <th>19</th>\n      <td>Sahbuz</td>\n      <td>AZ</td>\n      <td>80.20</td>\n      <td>clear sky</td>\n      <td>39.4072</td>\n      <td>45.5739</td>\n      <td></td>\n    </tr>\n    <tr>\n      <th>20</th>\n      <td>San Patricio</td>\n      <td>US</td>\n      <td>84.09</td>\n      <td>clear sky</td>\n      <td>28.0170</td>\n      <td>-97.5169</td>\n      <td></td>\n    </tr>\n    <tr>\n      <th>24</th>\n      <td>Namtsy</td>\n      <td>RU</td>\n      <td>82.51</td>\n      <td>scattered clouds</td>\n      <td>62.7161</td>\n      <td>129.6658</td>\n      <td></td>\n    </tr>\n    <tr>\n      <th>30</th>\n      <td>Luganville</td>\n      <td>VU</td>\n      <td>81.36</td>\n      <td>scattered clouds</td>\n      <td>-15.5333</td>\n      <td>167.1667</td>\n      <td></td>\n    </tr>\n    <tr>\n      <th>34</th>\n      <td>Kavaratti</td>\n      <td>IN</td>\n      <td>82.38</td>\n      <td>overcast clouds</td>\n      <td>10.5669</td>\n      <td>72.6420</td>\n      <td></td>\n    </tr>\n    <tr>\n      <th>40</th>\n      <td>Eyl</td>\n      <td>SO</td>\n      <td>80.40</td>\n      <td>overcast clouds</td>\n      <td>7.9803</td>\n      <td>49.8164</td>\n      <td></td>\n    </tr>\n    <tr>\n      <th>43</th>\n      <td>Butaritari</td>\n      <td>KI</td>\n      <td>83.95</td>\n      <td>overcast clouds</td>\n      <td>3.0707</td>\n      <td>172.7902</td>\n      <td></td>\n    </tr>\n  </tbody>\n</table>\n</div>"
     },
     "metadata": {},
     "execution_count": 19
    }
   ],
   "source": [
    "# 5a. Create DataFrame called hotel_df to store hotel names along with city, country, max temp, and coordinates.\n",
    "hotel_df = clean_df[[\"City\", \"Country\", \"Max Temp\", \"Current Description\", \"Lat\", \"Lng\"]].copy()\n",
    "\n",
    "# 5b. Create a new column \"Hotel Name\"\n",
    "hotel_df[\"Hotel Name\"] = \"\"\n",
    "hotel_df.head(10)"
   ]
  },
  {
   "cell_type": "code",
   "execution_count": 20,
   "metadata": {},
   "outputs": [
    {
     "output_type": "stream",
     "name": "stdout",
     "text": [
      "Hotel not found... skipping.\n",
      "Hotel not found... skipping.\n",
      "Hotel not found... skipping.\n",
      "Hotel not found... skipping.\n",
      "Hotel not found... skipping.\n",
      "Hotel not found... skipping.\n",
      "Hotel not found... skipping.\n",
      "Hotel not found... skipping.\n",
      "Hotel not found... skipping.\n"
     ]
    }
   ],
   "source": [
    "# 6a. Set parameters to search for hotels with 5000 meters.\n",
    "params = {\n",
    "    \"radius\": 5000,\n",
    "    \"type\": \"lodging\",\n",
    "    \"key\": g_key\n",
    "}\n",
    "\n",
    "\n",
    "# 6b. Iterate through the hotel DataFrame.\n",
    "\n",
    "for index, row in hotel_df.iterrows():\n",
    "\n",
    "    # 6c. Get latitude and longitude from DataFrame\n",
    "\n",
    "    lat = row[\"Lat\"]\n",
    "    lng = row[\"Lng\"]\n",
    "\n",
    "    params[\"location\"] = f\"{lat},{lng}\"\n",
    "    \n",
    "    # 6d. Set up the base URL for the Google Directions API to get JSON data.\n",
    "    \n",
    "    base_url = \"https://maps.googleapis.com/maps/api/place/nearbysearch/json\"\n",
    "\n",
    "    # 6e. Make request and retrieve the JSON data from the search. \n",
    "   \n",
    "    hotels = requests.get(base_url, params=params).json()\n",
    "    \n",
    "    # 6f. Get the first hotel from the results and store the name, if a hotel isn't found skip the city.\n",
    "    \n",
    "    try:\n",
    "        hotel_df.loc[index, \"Hotel Name\"] = hotels[\"results\"][0][\"name\"]\n",
    "    except (IndexError):\n",
    "        print(\"Hotel not found... skipping.\")\n",
    "        "
   ]
  },
  {
   "cell_type": "code",
   "execution_count": 21,
   "metadata": {},
   "outputs": [],
   "source": [
    "# 7. Drop the rows where there is no Hotel Name.\n",
    "\n",
    "clean_hotel_df = hotel_df.dropna()"
   ]
  },
  {
   "cell_type": "code",
   "execution_count": 22,
   "metadata": {},
   "outputs": [],
   "source": [
    "# 8a. Create the output File (CSV)\n",
    "\n",
    "output_data_file = \"WeatherPy_Vacation.csv\"\n",
    "\n",
    "# 8b. Export the City_Data into a csv\n",
    "clean_hotel_df.to_csv(output_data_file, index_label=\"City_ID\")"
   ]
  },
  {
   "cell_type": "code",
   "execution_count": 23,
   "metadata": {},
   "outputs": [],
   "source": [
    "# 9. Using the template add city name, the country code, the weather description and maximum temperature for the city.\n",
    "\n",
    "info_box_template = \"\"\"\n",
    "<dl>\n",
    "<dt>Hotel Name</dt><dd>{Hotel Name}</dd>\n",
    "<dt>City</dt><dd>{City}</dd>\n",
    "<dt>Country</dt><dd>{Country}</dd>\n",
    "<dt>Current Conditions</dt><dd>{Current Description} & {Max Temp} °F</dd>\n",
    "</dl>\n",
    "\"\"\"\n",
    "\n",
    "# 10a. Get the data from each row and add it to the formatting template and store the data in a list.\n",
    "hotel_info = [info_box_template.format(**row) for index, row in clean_hotel_df.iterrows()]\n",
    "\n",
    "# 10b. Get the latitude and longitude from each row and store in a new DataFrame.\n",
    "locations = clean_hotel_df[[\"Lat\", \"Lng\"]]"
   ]
  },
  {
   "cell_type": "code",
   "execution_count": 24,
   "metadata": {},
   "outputs": [
    {
     "output_type": "display_data",
     "data": {
      "text/plain": "Figure(layout=FigureLayout(height='420px'))",
      "application/vnd.jupyter.widget-view+json": {
       "version_major": 2,
       "version_minor": 0,
       "model_id": "594e1dbb1d39475d8ff18941b609cab6"
      }
     },
     "metadata": {}
    }
   ],
   "source": [
    "# 11a. Add a marker layer for each city to the map. \n",
    "\n",
    "locations = hotel_df[[\"Lat\", \"Lng\"]]\n",
    "\n",
    "marker_layer = gmaps.marker_layer(locations, info_box_content=hotel_info)\n",
    "fig = gmaps.figure()\n",
    "fig.add_layer(marker_layer)\n",
    "\n",
    "# 11b. Display the figure\n",
    "\n",
    "fig\n"
   ]
  },
  {
   "cell_type": "code",
   "execution_count": 29,
   "metadata": {},
   "outputs": [],
   "source": []
  },
  {
   "cell_type": "code",
   "execution_count": null,
   "metadata": {},
   "outputs": [],
   "source": []
  }
 ],
 "metadata": {
  "kernelspec": {
   "name": "python3",
   "display_name": "Python 3.8.10 64-bit ('PyData': conda)"
  },
  "language_info": {
   "codemirror_mode": {
    "name": "ipython",
    "version": 3
   },
   "file_extension": ".py",
   "mimetype": "text/x-python",
   "name": "python",
   "nbconvert_exporter": "python",
   "pygments_lexer": "ipython3",
   "version": "3.8.10"
  },
  "latex_envs": {
   "LaTeX_envs_menu_present": true,
   "autoclose": false,
   "autocomplete": true,
   "bibliofile": "biblio.bib",
   "cite_by": "apalike",
   "current_citInitial": 1,
   "eqLabelWithNumbers": true,
   "eqNumInitial": 1,
   "hotkeys": {
    "equation": "Ctrl-E",
    "itemize": "Ctrl-I"
   },
   "labels_anchors": false,
   "latex_user_defs": false,
   "report_style_numbering": false,
   "user_envs_cfg": false
  },
  "interpreter": {
   "hash": "abe290642d551b78aa3d918a6b1e3a25aa3295161d70f949d9308b831a06f1c3"
  }
 },
 "nbformat": 4,
 "nbformat_minor": 2
}